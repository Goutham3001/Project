{
 "cells": [
  {
   "cell_type": "code",
   "execution_count": 1,
   "metadata": {
    "id": "SnsAfW65-Elw"
   },
   "outputs": [],
   "source": [
    "import pandas as pd\n",
    "df = pd.read_json(r\"/content/drive/MyDrive/Sports_and_Outdoors.json.gz\",lines=True,nrows=500000)"
   ]
  },
  {
   "cell_type": "code",
   "execution_count": 2,
   "metadata": {
    "colab": {
     "base_uri": "https://localhost:8080/"
    },
    "id": "Fg0y__SNN_Im",
    "outputId": "e552881e-93be-48f0-ede2-8c597cbb4aa1"
   },
   "outputs": [
    {
     "name": "stdout",
     "output_type": "stream",
     "text": [
      "Drive already mounted at /content/drive; to attempt to forcibly remount, call drive.mount(\"/content/drive\", force_remount=True).\n"
     ]
    }
   ],
   "source": [
    "from google.colab import drive\n",
    "drive.mount('/content/drive')"
   ]
  },
  {
   "cell_type": "code",
   "execution_count": 3,
   "metadata": {
    "id": "ki2k8p_fyiCL"
   },
   "outputs": [],
   "source": [
    "df_1 = pd.read_json(r\"/content/drive/MyDrive/meta_Sports_and_Outdoors.json.gz\",lines=True,nrows=500000)"
   ]
  },
  {
   "cell_type": "code",
   "execution_count": 4,
   "metadata": {
    "id": "B1Zhp-wkyxyO"
   },
   "outputs": [],
   "source": [
    "data = df"
   ]
  },
  {
   "cell_type": "code",
   "execution_count": 5,
   "metadata": {
    "id": "eGxdkbiB0VDZ"
   },
   "outputs": [],
   "source": [
    "data_1 = df_1"
   ]
  },
  {
   "cell_type": "code",
   "execution_count": 6,
   "metadata": {
    "id": "OzF7eKV40XD0"
   },
   "outputs": [],
   "source": [
    "merged_data = pd.merge(data,data_1,on=\"asin\")"
   ]
  },
  {
   "cell_type": "code",
   "execution_count": 7,
   "metadata": {
    "colab": {
     "base_uri": "https://localhost:8080/",
     "height": 820
    },
    "id": "HDFqBCsW0ip_",
    "outputId": "d8ddad95-fcf2-42e5-f4f8-05c983078d3d"
   },
   "outputs": [
    {
     "data": {
      "text/html": [
       "\n",
       "  <div id=\"df-acca659c-e1d2-4015-a6c1-430845ecd84c\">\n",
       "    <div class=\"colab-df-container\">\n",
       "      <div>\n",
       "<style scoped>\n",
       "    .dataframe tbody tr th:only-of-type {\n",
       "        vertical-align: middle;\n",
       "    }\n",
       "\n",
       "    .dataframe tbody tr th {\n",
       "        vertical-align: top;\n",
       "    }\n",
       "\n",
       "    .dataframe thead th {\n",
       "        text-align: right;\n",
       "    }\n",
       "</style>\n",
       "<table border=\"1\" class=\"dataframe\">\n",
       "  <thead>\n",
       "    <tr style=\"text-align: right;\">\n",
       "      <th></th>\n",
       "      <th>overall</th>\n",
       "      <th>verified</th>\n",
       "      <th>reviewTime</th>\n",
       "      <th>reviewerID</th>\n",
       "      <th>asin</th>\n",
       "      <th>reviewerName</th>\n",
       "      <th>reviewText</th>\n",
       "      <th>summary</th>\n",
       "      <th>unixReviewTime</th>\n",
       "      <th>vote</th>\n",
       "      <th>...</th>\n",
       "      <th>feature</th>\n",
       "      <th>rank</th>\n",
       "      <th>also_view</th>\n",
       "      <th>main_cat</th>\n",
       "      <th>similar_item</th>\n",
       "      <th>date</th>\n",
       "      <th>price</th>\n",
       "      <th>imageURL</th>\n",
       "      <th>imageURLHighRes</th>\n",
       "      <th>details</th>\n",
       "    </tr>\n",
       "  </thead>\n",
       "  <tbody>\n",
       "    <tr>\n",
       "      <th>0</th>\n",
       "      <td>5</td>\n",
       "      <td>False</td>\n",
       "      <td>02 1, 2014</td>\n",
       "      <td>A23K73OVXJ04EG</td>\n",
       "      <td>0000031895</td>\n",
       "      <td>Lamb612000</td>\n",
       "      <td>It was as described and fit my 6 year old gran...</td>\n",
       "      <td>Neon Blue Tutu</td>\n",
       "      <td>1391212800</td>\n",
       "      <td>NaN</td>\n",
       "      <td>...</td>\n",
       "      <td>[3 Layers - 100% Polyester Tulle, Hand Wash La...</td>\n",
       "      <td>[&gt;#393,597 in Toys &amp; Games (See Top 100 in Toy...</td>\n",
       "      <td>[B009THXHPA, B079PYLZTM, B079PQPLT3, B00UP6A3R...</td>\n",
       "      <td>Toys &amp; Games</td>\n",
       "      <td></td>\n",
       "      <td></td>\n",
       "      <td>$6.54</td>\n",
       "      <td>[]</td>\n",
       "      <td>[]</td>\n",
       "      <td>NaN</td>\n",
       "    </tr>\n",
       "    <tr>\n",
       "      <th>1</th>\n",
       "      <td>4</td>\n",
       "      <td>True</td>\n",
       "      <td>11 20, 2013</td>\n",
       "      <td>A2681T699HV6H1</td>\n",
       "      <td>0000031895</td>\n",
       "      <td>Courtney R</td>\n",
       "      <td>very cute and went great with my Halloween cos...</td>\n",
       "      <td>loved it!</td>\n",
       "      <td>1384905600</td>\n",
       "      <td>NaN</td>\n",
       "      <td>...</td>\n",
       "      <td>[3 Layers - 100% Polyester Tulle, Hand Wash La...</td>\n",
       "      <td>[&gt;#393,597 in Toys &amp; Games (See Top 100 in Toy...</td>\n",
       "      <td>[B009THXHPA, B079PYLZTM, B079PQPLT3, B00UP6A3R...</td>\n",
       "      <td>Toys &amp; Games</td>\n",
       "      <td></td>\n",
       "      <td></td>\n",
       "      <td>$6.54</td>\n",
       "      <td>[]</td>\n",
       "      <td>[]</td>\n",
       "      <td>NaN</td>\n",
       "    </tr>\n",
       "    <tr>\n",
       "      <th>2</th>\n",
       "      <td>1</td>\n",
       "      <td>True</td>\n",
       "      <td>10 21, 2016</td>\n",
       "      <td>A374PA18DCGS5Y</td>\n",
       "      <td>0000031895</td>\n",
       "      <td>Julie Ortiz</td>\n",
       "      <td>This item is very cheaply made and not full li...</td>\n",
       "      <td>One Star</td>\n",
       "      <td>1477008000</td>\n",
       "      <td>NaN</td>\n",
       "      <td>...</td>\n",
       "      <td>[3 Layers - 100% Polyester Tulle, Hand Wash La...</td>\n",
       "      <td>[&gt;#393,597 in Toys &amp; Games (See Top 100 in Toy...</td>\n",
       "      <td>[B009THXHPA, B079PYLZTM, B079PQPLT3, B00UP6A3R...</td>\n",
       "      <td>Toys &amp; Games</td>\n",
       "      <td></td>\n",
       "      <td></td>\n",
       "      <td>$6.54</td>\n",
       "      <td>[]</td>\n",
       "      <td>[]</td>\n",
       "      <td>NaN</td>\n",
       "    </tr>\n",
       "    <tr>\n",
       "      <th>3</th>\n",
       "      <td>5</td>\n",
       "      <td>True</td>\n",
       "      <td>10 18, 2016</td>\n",
       "      <td>A14PVW2N5YBWSA</td>\n",
       "      <td>0000031895</td>\n",
       "      <td>Denise M.</td>\n",
       "      <td>cute</td>\n",
       "      <td>Five Stars</td>\n",
       "      <td>1476748800</td>\n",
       "      <td>NaN</td>\n",
       "      <td>...</td>\n",
       "      <td>[3 Layers - 100% Polyester Tulle, Hand Wash La...</td>\n",
       "      <td>[&gt;#393,597 in Toys &amp; Games (See Top 100 in Toy...</td>\n",
       "      <td>[B009THXHPA, B079PYLZTM, B079PQPLT3, B00UP6A3R...</td>\n",
       "      <td>Toys &amp; Games</td>\n",
       "      <td></td>\n",
       "      <td></td>\n",
       "      <td>$6.54</td>\n",
       "      <td>[]</td>\n",
       "      <td>[]</td>\n",
       "      <td>NaN</td>\n",
       "    </tr>\n",
       "    <tr>\n",
       "      <th>4</th>\n",
       "      <td>1</td>\n",
       "      <td>True</td>\n",
       "      <td>10 17, 2016</td>\n",
       "      <td>A2KWBC44QI2567</td>\n",
       "      <td>0000031895</td>\n",
       "      <td>Danielle Zollar</td>\n",
       "      <td>Not as full as the picture suggests and it sme...</td>\n",
       "      <td>Smelly !</td>\n",
       "      <td>1476662400</td>\n",
       "      <td>NaN</td>\n",
       "      <td>...</td>\n",
       "      <td>[3 Layers - 100% Polyester Tulle, Hand Wash La...</td>\n",
       "      <td>[&gt;#393,597 in Toys &amp; Games (See Top 100 in Toy...</td>\n",
       "      <td>[B009THXHPA, B079PYLZTM, B079PQPLT3, B00UP6A3R...</td>\n",
       "      <td>Toys &amp; Games</td>\n",
       "      <td></td>\n",
       "      <td></td>\n",
       "      <td>$6.54</td>\n",
       "      <td>[]</td>\n",
       "      <td>[]</td>\n",
       "      <td>NaN</td>\n",
       "    </tr>\n",
       "  </tbody>\n",
       "</table>\n",
       "<p>5 rows × 30 columns</p>\n",
       "</div>\n",
       "      <button class=\"colab-df-convert\" onclick=\"convertToInteractive('df-acca659c-e1d2-4015-a6c1-430845ecd84c')\"\n",
       "              title=\"Convert this dataframe to an interactive table.\"\n",
       "              style=\"display:none;\">\n",
       "        \n",
       "  <svg xmlns=\"http://www.w3.org/2000/svg\" height=\"24px\"viewBox=\"0 0 24 24\"\n",
       "       width=\"24px\">\n",
       "    <path d=\"M0 0h24v24H0V0z\" fill=\"none\"/>\n",
       "    <path d=\"M18.56 5.44l.94 2.06.94-2.06 2.06-.94-2.06-.94-.94-2.06-.94 2.06-2.06.94zm-11 1L8.5 8.5l.94-2.06 2.06-.94-2.06-.94L8.5 2.5l-.94 2.06-2.06.94zm10 10l.94 2.06.94-2.06 2.06-.94-2.06-.94-.94-2.06-.94 2.06-2.06.94z\"/><path d=\"M17.41 7.96l-1.37-1.37c-.4-.4-.92-.59-1.43-.59-.52 0-1.04.2-1.43.59L10.3 9.45l-7.72 7.72c-.78.78-.78 2.05 0 2.83L4 21.41c.39.39.9.59 1.41.59.51 0 1.02-.2 1.41-.59l7.78-7.78 2.81-2.81c.8-.78.8-2.07 0-2.86zM5.41 20L4 18.59l7.72-7.72 1.47 1.35L5.41 20z\"/>\n",
       "  </svg>\n",
       "      </button>\n",
       "      \n",
       "  <style>\n",
       "    .colab-df-container {\n",
       "      display:flex;\n",
       "      flex-wrap:wrap;\n",
       "      gap: 12px;\n",
       "    }\n",
       "\n",
       "    .colab-df-convert {\n",
       "      background-color: #E8F0FE;\n",
       "      border: none;\n",
       "      border-radius: 50%;\n",
       "      cursor: pointer;\n",
       "      display: none;\n",
       "      fill: #1967D2;\n",
       "      height: 32px;\n",
       "      padding: 0 0 0 0;\n",
       "      width: 32px;\n",
       "    }\n",
       "\n",
       "    .colab-df-convert:hover {\n",
       "      background-color: #E2EBFA;\n",
       "      box-shadow: 0px 1px 2px rgba(60, 64, 67, 0.3), 0px 1px 3px 1px rgba(60, 64, 67, 0.15);\n",
       "      fill: #174EA6;\n",
       "    }\n",
       "\n",
       "    [theme=dark] .colab-df-convert {\n",
       "      background-color: #3B4455;\n",
       "      fill: #D2E3FC;\n",
       "    }\n",
       "\n",
       "    [theme=dark] .colab-df-convert:hover {\n",
       "      background-color: #434B5C;\n",
       "      box-shadow: 0px 1px 3px 1px rgba(0, 0, 0, 0.15);\n",
       "      filter: drop-shadow(0px 1px 2px rgba(0, 0, 0, 0.3));\n",
       "      fill: #FFFFFF;\n",
       "    }\n",
       "  </style>\n",
       "\n",
       "      <script>\n",
       "        const buttonEl =\n",
       "          document.querySelector('#df-acca659c-e1d2-4015-a6c1-430845ecd84c button.colab-df-convert');\n",
       "        buttonEl.style.display =\n",
       "          google.colab.kernel.accessAllowed ? 'block' : 'none';\n",
       "\n",
       "        async function convertToInteractive(key) {\n",
       "          const element = document.querySelector('#df-acca659c-e1d2-4015-a6c1-430845ecd84c');\n",
       "          const dataTable =\n",
       "            await google.colab.kernel.invokeFunction('convertToInteractive',\n",
       "                                                     [key], {});\n",
       "          if (!dataTable) return;\n",
       "\n",
       "          const docLinkHtml = 'Like what you see? Visit the ' +\n",
       "            '<a target=\"_blank\" href=https://colab.research.google.com/notebooks/data_table.ipynb>data table notebook</a>'\n",
       "            + ' to learn more about interactive tables.';\n",
       "          element.innerHTML = '';\n",
       "          dataTable['output_type'] = 'display_data';\n",
       "          await google.colab.output.renderOutput(dataTable, element);\n",
       "          const docLink = document.createElement('div');\n",
       "          docLink.innerHTML = docLinkHtml;\n",
       "          element.appendChild(docLink);\n",
       "        }\n",
       "      </script>\n",
       "    </div>\n",
       "  </div>\n",
       "  "
      ],
      "text/plain": [
       "   overall  verified   reviewTime      reviewerID        asin  \\\n",
       "0        5     False   02 1, 2014  A23K73OVXJ04EG  0000031895   \n",
       "1        4      True  11 20, 2013  A2681T699HV6H1  0000031895   \n",
       "2        1      True  10 21, 2016  A374PA18DCGS5Y  0000031895   \n",
       "3        5      True  10 18, 2016  A14PVW2N5YBWSA  0000031895   \n",
       "4        1      True  10 17, 2016  A2KWBC44QI2567  0000031895   \n",
       "\n",
       "      reviewerName                                         reviewText  \\\n",
       "0       Lamb612000  It was as described and fit my 6 year old gran...   \n",
       "1       Courtney R  very cute and went great with my Halloween cos...   \n",
       "2      Julie Ortiz  This item is very cheaply made and not full li...   \n",
       "3        Denise M.                                               cute   \n",
       "4  Danielle Zollar  Not as full as the picture suggests and it sme...   \n",
       "\n",
       "          summary  unixReviewTime vote  ...  \\\n",
       "0  Neon Blue Tutu      1391212800  NaN  ...   \n",
       "1       loved it!      1384905600  NaN  ...   \n",
       "2        One Star      1477008000  NaN  ...   \n",
       "3      Five Stars      1476748800  NaN  ...   \n",
       "4        Smelly !      1476662400  NaN  ...   \n",
       "\n",
       "                                             feature  \\\n",
       "0  [3 Layers - 100% Polyester Tulle, Hand Wash La...   \n",
       "1  [3 Layers - 100% Polyester Tulle, Hand Wash La...   \n",
       "2  [3 Layers - 100% Polyester Tulle, Hand Wash La...   \n",
       "3  [3 Layers - 100% Polyester Tulle, Hand Wash La...   \n",
       "4  [3 Layers - 100% Polyester Tulle, Hand Wash La...   \n",
       "\n",
       "                                                rank  \\\n",
       "0  [>#393,597 in Toys & Games (See Top 100 in Toy...   \n",
       "1  [>#393,597 in Toys & Games (See Top 100 in Toy...   \n",
       "2  [>#393,597 in Toys & Games (See Top 100 in Toy...   \n",
       "3  [>#393,597 in Toys & Games (See Top 100 in Toy...   \n",
       "4  [>#393,597 in Toys & Games (See Top 100 in Toy...   \n",
       "\n",
       "                                           also_view      main_cat  \\\n",
       "0  [B009THXHPA, B079PYLZTM, B079PQPLT3, B00UP6A3R...  Toys & Games   \n",
       "1  [B009THXHPA, B079PYLZTM, B079PQPLT3, B00UP6A3R...  Toys & Games   \n",
       "2  [B009THXHPA, B079PYLZTM, B079PQPLT3, B00UP6A3R...  Toys & Games   \n",
       "3  [B009THXHPA, B079PYLZTM, B079PQPLT3, B00UP6A3R...  Toys & Games   \n",
       "4  [B009THXHPA, B079PYLZTM, B079PQPLT3, B00UP6A3R...  Toys & Games   \n",
       "\n",
       "  similar_item date  price imageURL imageURLHighRes details  \n",
       "0                    $6.54       []              []     NaN  \n",
       "1                    $6.54       []              []     NaN  \n",
       "2                    $6.54       []              []     NaN  \n",
       "3                    $6.54       []              []     NaN  \n",
       "4                    $6.54       []              []     NaN  \n",
       "\n",
       "[5 rows x 30 columns]"
      ]
     },
     "execution_count": 7,
     "metadata": {},
     "output_type": "execute_result"
    }
   ],
   "source": [
    "merged_data.head()"
   ]
  },
  {
   "cell_type": "code",
   "execution_count": 8,
   "metadata": {
    "colab": {
     "base_uri": "https://localhost:8080/"
    },
    "id": "oh1kOvZJ0md2",
    "outputId": "3562e441-5253-4f6d-f43f-45f50fbd67d2"
   },
   "outputs": [
    {
     "data": {
      "text/plain": [
       "(633564, 30)"
      ]
     },
     "execution_count": 8,
     "metadata": {},
     "output_type": "execute_result"
    }
   ],
   "source": [
    "merged_data.shape"
   ]
  },
  {
   "cell_type": "code",
   "execution_count": 9,
   "metadata": {
    "colab": {
     "base_uri": "https://localhost:8080/"
    },
    "id": "NIuRsAEv0rsA",
    "outputId": "bee9b42f-4d93-4992-f4af-f18856a5ad3b"
   },
   "outputs": [
    {
     "data": {
      "text/plain": [
       "overall                 0\n",
       "verified                0\n",
       "reviewTime              0\n",
       "reviewerID              0\n",
       "asin                    0\n",
       "reviewerName           31\n",
       "reviewText            264\n",
       "summary                95\n",
       "unixReviewTime          0\n",
       "vote               544704\n",
       "style              259014\n",
       "image              626567\n",
       "category                0\n",
       "tech1                   0\n",
       "description             0\n",
       "fit                     0\n",
       "title                   0\n",
       "also_buy                0\n",
       "tech2                   0\n",
       "brand                   0\n",
       "feature                 0\n",
       "rank                    0\n",
       "also_view               0\n",
       "main_cat                0\n",
       "similar_item            0\n",
       "date                    0\n",
       "price                   0\n",
       "imageURL                0\n",
       "imageURLHighRes         0\n",
       "details               589\n",
       "dtype: int64"
      ]
     },
     "execution_count": 9,
     "metadata": {},
     "output_type": "execute_result"
    }
   ],
   "source": [
    "merged_data.isnull().sum()"
   ]
  },
  {
   "cell_type": "code",
   "execution_count": 10,
   "metadata": {
    "id": "2USQdTQ70xqe"
   },
   "outputs": [],
   "source": [
    "dropped_data = merged_data.drop(columns=[\"imageURL\",\"imageURLHighRes\",\"date\",\"feature\",\"similar_item\",\"also_view\",\"tech2\",\"fit\",\"vote\",\"style\",\"image\",\"tech1\",\"also_buy\",\"details\",\"unixReviewTime\"])"
   ]
  },
  {
   "cell_type": "code",
   "execution_count": 11,
   "metadata": {
    "colab": {
     "base_uri": "https://localhost:8080/",
     "height": 597
    },
    "id": "-szDifPV1FXI",
    "outputId": "f82a3de6-6a84-42f9-cb79-72eb479b5503"
   },
   "outputs": [
    {
     "data": {
      "text/html": [
       "\n",
       "  <div id=\"df-20bb91b5-802f-4e35-9b3a-170f4525c42c\">\n",
       "    <div class=\"colab-df-container\">\n",
       "      <div>\n",
       "<style scoped>\n",
       "    .dataframe tbody tr th:only-of-type {\n",
       "        vertical-align: middle;\n",
       "    }\n",
       "\n",
       "    .dataframe tbody tr th {\n",
       "        vertical-align: top;\n",
       "    }\n",
       "\n",
       "    .dataframe thead th {\n",
       "        text-align: right;\n",
       "    }\n",
       "</style>\n",
       "<table border=\"1\" class=\"dataframe\">\n",
       "  <thead>\n",
       "    <tr style=\"text-align: right;\">\n",
       "      <th></th>\n",
       "      <th>overall</th>\n",
       "      <th>verified</th>\n",
       "      <th>reviewTime</th>\n",
       "      <th>reviewerID</th>\n",
       "      <th>asin</th>\n",
       "      <th>reviewerName</th>\n",
       "      <th>reviewText</th>\n",
       "      <th>summary</th>\n",
       "      <th>category</th>\n",
       "      <th>description</th>\n",
       "      <th>title</th>\n",
       "      <th>brand</th>\n",
       "      <th>rank</th>\n",
       "      <th>main_cat</th>\n",
       "      <th>price</th>\n",
       "    </tr>\n",
       "  </thead>\n",
       "  <tbody>\n",
       "    <tr>\n",
       "      <th>633559</th>\n",
       "      <td>1</td>\n",
       "      <td>True</td>\n",
       "      <td>06 25, 2013</td>\n",
       "      <td>A334PA1JO5UPPH</td>\n",
       "      <td>B000F8JMLU</td>\n",
       "      <td>GaryS</td>\n",
       "      <td>When I saw the price of this table, I thought ...</td>\n",
       "      <td>Holes in the table</td>\n",
       "      <td>[Sports &amp; Outdoors, Outdoor Recreation, Campin...</td>\n",
       "      <td>[The RIO Adventure centerfold table features a...</td>\n",
       "      <td>RIO Adventure Centerfold Table</td>\n",
       "      <td>RIO Gear</td>\n",
       "      <td>588,893 in Sports &amp; Outdoors (</td>\n",
       "      <td>Sports &amp; Outdoors</td>\n",
       "      <td></td>\n",
       "    </tr>\n",
       "    <tr>\n",
       "      <th>633560</th>\n",
       "      <td>4</td>\n",
       "      <td>True</td>\n",
       "      <td>06 25, 2013</td>\n",
       "      <td>A15IQO5QZR6YOQ</td>\n",
       "      <td>B000F8JMLU</td>\n",
       "      <td>C. One</td>\n",
       "      <td>When I first got this unit I was a bit disappo...</td>\n",
       "      <td>Camping Table</td>\n",
       "      <td>[Sports &amp; Outdoors, Outdoor Recreation, Campin...</td>\n",
       "      <td>[The RIO Adventure centerfold table features a...</td>\n",
       "      <td>RIO Adventure Centerfold Table</td>\n",
       "      <td>RIO Gear</td>\n",
       "      <td>588,893 in Sports &amp; Outdoors (</td>\n",
       "      <td>Sports &amp; Outdoors</td>\n",
       "      <td></td>\n",
       "    </tr>\n",
       "    <tr>\n",
       "      <th>633561</th>\n",
       "      <td>3</td>\n",
       "      <td>True</td>\n",
       "      <td>06 24, 2013</td>\n",
       "      <td>A184OTW5PHZTVX</td>\n",
       "      <td>B000F8JMLU</td>\n",
       "      <td>Lianne Tang</td>\n",
       "      <td>I know they calculated the shipping cost in, s...</td>\n",
       "      <td>Could be cheaper but understandable</td>\n",
       "      <td>[Sports &amp; Outdoors, Outdoor Recreation, Campin...</td>\n",
       "      <td>[The RIO Adventure centerfold table features a...</td>\n",
       "      <td>RIO Adventure Centerfold Table</td>\n",
       "      <td>RIO Gear</td>\n",
       "      <td>588,893 in Sports &amp; Outdoors (</td>\n",
       "      <td>Sports &amp; Outdoors</td>\n",
       "      <td></td>\n",
       "    </tr>\n",
       "    <tr>\n",
       "      <th>633562</th>\n",
       "      <td>5</td>\n",
       "      <td>True</td>\n",
       "      <td>06 18, 2013</td>\n",
       "      <td>A2EW2NMFVI4OAZ</td>\n",
       "      <td>B000F8JMLU</td>\n",
       "      <td>Valerie Martinell</td>\n",
       "      <td>Ordered this table to set up easy display at a...</td>\n",
       "      <td>Nice camp table.</td>\n",
       "      <td>[Sports &amp; Outdoors, Outdoor Recreation, Campin...</td>\n",
       "      <td>[The RIO Adventure centerfold table features a...</td>\n",
       "      <td>RIO Adventure Centerfold Table</td>\n",
       "      <td>RIO Gear</td>\n",
       "      <td>588,893 in Sports &amp; Outdoors (</td>\n",
       "      <td>Sports &amp; Outdoors</td>\n",
       "      <td></td>\n",
       "    </tr>\n",
       "    <tr>\n",
       "      <th>633563</th>\n",
       "      <td>3</td>\n",
       "      <td>True</td>\n",
       "      <td>06 10, 2013</td>\n",
       "      <td>A34PPYUA02YXPF</td>\n",
       "      <td>B000F8JMLU</td>\n",
       "      <td>Robert M Gorman</td>\n",
       "      <td>This is decent priced table for weekend camper...</td>\n",
       "      <td>Works for camping...but</td>\n",
       "      <td>[Sports &amp; Outdoors, Outdoor Recreation, Campin...</td>\n",
       "      <td>[The RIO Adventure centerfold table features a...</td>\n",
       "      <td>RIO Adventure Centerfold Table</td>\n",
       "      <td>RIO Gear</td>\n",
       "      <td>588,893 in Sports &amp; Outdoors (</td>\n",
       "      <td>Sports &amp; Outdoors</td>\n",
       "      <td></td>\n",
       "    </tr>\n",
       "  </tbody>\n",
       "</table>\n",
       "</div>\n",
       "      <button class=\"colab-df-convert\" onclick=\"convertToInteractive('df-20bb91b5-802f-4e35-9b3a-170f4525c42c')\"\n",
       "              title=\"Convert this dataframe to an interactive table.\"\n",
       "              style=\"display:none;\">\n",
       "        \n",
       "  <svg xmlns=\"http://www.w3.org/2000/svg\" height=\"24px\"viewBox=\"0 0 24 24\"\n",
       "       width=\"24px\">\n",
       "    <path d=\"M0 0h24v24H0V0z\" fill=\"none\"/>\n",
       "    <path d=\"M18.56 5.44l.94 2.06.94-2.06 2.06-.94-2.06-.94-.94-2.06-.94 2.06-2.06.94zm-11 1L8.5 8.5l.94-2.06 2.06-.94-2.06-.94L8.5 2.5l-.94 2.06-2.06.94zm10 10l.94 2.06.94-2.06 2.06-.94-2.06-.94-.94-2.06-.94 2.06-2.06.94z\"/><path d=\"M17.41 7.96l-1.37-1.37c-.4-.4-.92-.59-1.43-.59-.52 0-1.04.2-1.43.59L10.3 9.45l-7.72 7.72c-.78.78-.78 2.05 0 2.83L4 21.41c.39.39.9.59 1.41.59.51 0 1.02-.2 1.41-.59l7.78-7.78 2.81-2.81c.8-.78.8-2.07 0-2.86zM5.41 20L4 18.59l7.72-7.72 1.47 1.35L5.41 20z\"/>\n",
       "  </svg>\n",
       "      </button>\n",
       "      \n",
       "  <style>\n",
       "    .colab-df-container {\n",
       "      display:flex;\n",
       "      flex-wrap:wrap;\n",
       "      gap: 12px;\n",
       "    }\n",
       "\n",
       "    .colab-df-convert {\n",
       "      background-color: #E8F0FE;\n",
       "      border: none;\n",
       "      border-radius: 50%;\n",
       "      cursor: pointer;\n",
       "      display: none;\n",
       "      fill: #1967D2;\n",
       "      height: 32px;\n",
       "      padding: 0 0 0 0;\n",
       "      width: 32px;\n",
       "    }\n",
       "\n",
       "    .colab-df-convert:hover {\n",
       "      background-color: #E2EBFA;\n",
       "      box-shadow: 0px 1px 2px rgba(60, 64, 67, 0.3), 0px 1px 3px 1px rgba(60, 64, 67, 0.15);\n",
       "      fill: #174EA6;\n",
       "    }\n",
       "\n",
       "    [theme=dark] .colab-df-convert {\n",
       "      background-color: #3B4455;\n",
       "      fill: #D2E3FC;\n",
       "    }\n",
       "\n",
       "    [theme=dark] .colab-df-convert:hover {\n",
       "      background-color: #434B5C;\n",
       "      box-shadow: 0px 1px 3px 1px rgba(0, 0, 0, 0.15);\n",
       "      filter: drop-shadow(0px 1px 2px rgba(0, 0, 0, 0.3));\n",
       "      fill: #FFFFFF;\n",
       "    }\n",
       "  </style>\n",
       "\n",
       "      <script>\n",
       "        const buttonEl =\n",
       "          document.querySelector('#df-20bb91b5-802f-4e35-9b3a-170f4525c42c button.colab-df-convert');\n",
       "        buttonEl.style.display =\n",
       "          google.colab.kernel.accessAllowed ? 'block' : 'none';\n",
       "\n",
       "        async function convertToInteractive(key) {\n",
       "          const element = document.querySelector('#df-20bb91b5-802f-4e35-9b3a-170f4525c42c');\n",
       "          const dataTable =\n",
       "            await google.colab.kernel.invokeFunction('convertToInteractive',\n",
       "                                                     [key], {});\n",
       "          if (!dataTable) return;\n",
       "\n",
       "          const docLinkHtml = 'Like what you see? Visit the ' +\n",
       "            '<a target=\"_blank\" href=https://colab.research.google.com/notebooks/data_table.ipynb>data table notebook</a>'\n",
       "            + ' to learn more about interactive tables.';\n",
       "          element.innerHTML = '';\n",
       "          dataTable['output_type'] = 'display_data';\n",
       "          await google.colab.output.renderOutput(dataTable, element);\n",
       "          const docLink = document.createElement('div');\n",
       "          docLink.innerHTML = docLinkHtml;\n",
       "          element.appendChild(docLink);\n",
       "        }\n",
       "      </script>\n",
       "    </div>\n",
       "  </div>\n",
       "  "
      ],
      "text/plain": [
       "        overall  verified   reviewTime      reviewerID        asin  \\\n",
       "633559        1      True  06 25, 2013  A334PA1JO5UPPH  B000F8JMLU   \n",
       "633560        4      True  06 25, 2013  A15IQO5QZR6YOQ  B000F8JMLU   \n",
       "633561        3      True  06 24, 2013  A184OTW5PHZTVX  B000F8JMLU   \n",
       "633562        5      True  06 18, 2013  A2EW2NMFVI4OAZ  B000F8JMLU   \n",
       "633563        3      True  06 10, 2013  A34PPYUA02YXPF  B000F8JMLU   \n",
       "\n",
       "             reviewerName                                         reviewText  \\\n",
       "633559              GaryS  When I saw the price of this table, I thought ...   \n",
       "633560             C. One  When I first got this unit I was a bit disappo...   \n",
       "633561        Lianne Tang  I know they calculated the shipping cost in, s...   \n",
       "633562  Valerie Martinell  Ordered this table to set up easy display at a...   \n",
       "633563    Robert M Gorman  This is decent priced table for weekend camper...   \n",
       "\n",
       "                                    summary  \\\n",
       "633559                   Holes in the table   \n",
       "633560                        Camping Table   \n",
       "633561  Could be cheaper but understandable   \n",
       "633562                     Nice camp table.   \n",
       "633563              Works for camping...but   \n",
       "\n",
       "                                                 category  \\\n",
       "633559  [Sports & Outdoors, Outdoor Recreation, Campin...   \n",
       "633560  [Sports & Outdoors, Outdoor Recreation, Campin...   \n",
       "633561  [Sports & Outdoors, Outdoor Recreation, Campin...   \n",
       "633562  [Sports & Outdoors, Outdoor Recreation, Campin...   \n",
       "633563  [Sports & Outdoors, Outdoor Recreation, Campin...   \n",
       "\n",
       "                                              description  \\\n",
       "633559  [The RIO Adventure centerfold table features a...   \n",
       "633560  [The RIO Adventure centerfold table features a...   \n",
       "633561  [The RIO Adventure centerfold table features a...   \n",
       "633562  [The RIO Adventure centerfold table features a...   \n",
       "633563  [The RIO Adventure centerfold table features a...   \n",
       "\n",
       "                                 title     brand  \\\n",
       "633559  RIO Adventure Centerfold Table  RIO Gear   \n",
       "633560  RIO Adventure Centerfold Table  RIO Gear   \n",
       "633561  RIO Adventure Centerfold Table  RIO Gear   \n",
       "633562  RIO Adventure Centerfold Table  RIO Gear   \n",
       "633563  RIO Adventure Centerfold Table  RIO Gear   \n",
       "\n",
       "                                  rank           main_cat price  \n",
       "633559  588,893 in Sports & Outdoors (  Sports & Outdoors        \n",
       "633560  588,893 in Sports & Outdoors (  Sports & Outdoors        \n",
       "633561  588,893 in Sports & Outdoors (  Sports & Outdoors        \n",
       "633562  588,893 in Sports & Outdoors (  Sports & Outdoors        \n",
       "633563  588,893 in Sports & Outdoors (  Sports & Outdoors        "
      ]
     },
     "execution_count": 11,
     "metadata": {},
     "output_type": "execute_result"
    }
   ],
   "source": [
    "dropped_data.tail()"
   ]
  },
  {
   "cell_type": "markdown",
   "metadata": {
    "id": "ozH5QjwO8UUX"
   },
   "source": []
  },
  {
   "cell_type": "code",
   "execution_count": 12,
   "metadata": {
    "colab": {
     "base_uri": "https://localhost:8080/"
    },
    "id": "jpO8zbkz1OTI",
    "outputId": "a4b8fbcf-3609-47b1-bbbc-72ea6062550e"
   },
   "outputs": [
    {
     "data": {
      "text/plain": [
       "Great                                                                                                                                                                                                                                                                                                                                                                                                                                                                                 1347\n",
       "good                                                                                                                                                                                                                                                                                                                                                                                                                                                                                  1292\n",
       "great                                                                                                                                                                                                                                                                                                                                                                                                                                                                                 1141\n",
       "Good                                                                                                                                                                                                                                                                                                                                                                                                                                                                                  1009\n",
       "Perfect                                                                                                                                                                                                                                                                                                                                                                                                                                                                                691\n",
       "                                                                                                                                                                                                                                                                                                                                                                                                                                                                                      ... \n",
       "The holes in the mesh are much larger than excepted. I ordered two and both have large holes in the back seam near the tag. One net has a three inch hole where the seam wasn't sewn completely.\\nNeither head net is functional for its intended purpose.                                                                                                                                                                                                                               1\n",
       "Looks like a grand product. Have had a bad hatch of skeeters yet to say for sure                                                                                                                                                                                                                                                                                                                                                                                                         1\n",
       "Exactly as described. Does not feel thin or cheap.                                                                                                                                                                                                                                                                                                                                                                                                                                       1\n",
       "I bought two of these nets for my wife and I to wear (green version). It fit well over my Tilley T4 and the mesh was long enough with room to spare. I don't get the other reviews that indicated this may have been short? Don't see how that is possible, unless someone had a very long neck AND a super sized wide brim hat that left less slack. The close distance between the mesh openings mean fewer insects can get in, but also can partly (but barely) obscure vision.       1\n",
       "This is decent priced table for weekend campers. Unfortunately it does not fully fold out to create a flat surface.                                                                                                                                                                                                                                                                                                                                                                      1\n",
       "Name: reviewText, Length: 456436, dtype: int64"
      ]
     },
     "execution_count": 12,
     "metadata": {},
     "output_type": "execute_result"
    }
   ],
   "source": [
    "dropped_data[\"reviewText\"].value_counts()"
   ]
  },
  {
   "cell_type": "code",
   "execution_count": 13,
   "metadata": {
    "id": "-0OW-CwN93w0"
   },
   "outputs": [],
   "source": [
    "clean_data = dropped_data.drop('asin',axis=1).astype('str').drop_duplicates()"
   ]
  },
  {
   "cell_type": "code",
   "execution_count": 14,
   "metadata": {
    "colab": {
     "base_uri": "https://localhost:8080/"
    },
    "id": "PeDP4K6A_XnD",
    "outputId": "c249fb1d-1b70-422a-dab1-ee688c8a4503"
   },
   "outputs": [
    {
     "data": {
      "text/plain": [
       "(497763, 14)"
      ]
     },
     "execution_count": 14,
     "metadata": {},
     "output_type": "execute_result"
    }
   ],
   "source": [
    "clean_data.shape"
   ]
  },
  {
   "cell_type": "code",
   "execution_count": 15,
   "metadata": {
    "colab": {
     "base_uri": "https://localhost:8080/",
     "height": 510
    },
    "id": "VIEtaAco_Y5x",
    "outputId": "6877f907-984c-4b44-c333-6cff74230ab6"
   },
   "outputs": [
    {
     "data": {
      "text/html": [
       "\n",
       "  <div id=\"df-6c1d0ba9-e1a8-4706-ab04-1370f9a12309\">\n",
       "    <div class=\"colab-df-container\">\n",
       "      <div>\n",
       "<style scoped>\n",
       "    .dataframe tbody tr th:only-of-type {\n",
       "        vertical-align: middle;\n",
       "    }\n",
       "\n",
       "    .dataframe tbody tr th {\n",
       "        vertical-align: top;\n",
       "    }\n",
       "\n",
       "    .dataframe thead th {\n",
       "        text-align: right;\n",
       "    }\n",
       "</style>\n",
       "<table border=\"1\" class=\"dataframe\">\n",
       "  <thead>\n",
       "    <tr style=\"text-align: right;\">\n",
       "      <th></th>\n",
       "      <th>overall</th>\n",
       "      <th>verified</th>\n",
       "      <th>reviewTime</th>\n",
       "      <th>reviewerID</th>\n",
       "      <th>reviewerName</th>\n",
       "      <th>reviewText</th>\n",
       "      <th>summary</th>\n",
       "      <th>category</th>\n",
       "      <th>description</th>\n",
       "      <th>title</th>\n",
       "      <th>brand</th>\n",
       "      <th>rank</th>\n",
       "      <th>main_cat</th>\n",
       "      <th>price</th>\n",
       "    </tr>\n",
       "  </thead>\n",
       "  <tbody>\n",
       "    <tr>\n",
       "      <th>0</th>\n",
       "      <td>5</td>\n",
       "      <td>False</td>\n",
       "      <td>02 1, 2014</td>\n",
       "      <td>A23K73OVXJ04EG</td>\n",
       "      <td>Lamb612000</td>\n",
       "      <td>It was as described and fit my 6 year old gran...</td>\n",
       "      <td>Neon Blue Tutu</td>\n",
       "      <td>['Sports &amp; Outdoors', 'Sports &amp; Fitness', 'Oth...</td>\n",
       "      <td>['Dance tutu for girls ages 2-8 years. Perfect...</td>\n",
       "      <td>Girls Ballet Tutu Neon Blue</td>\n",
       "      <td>Bububibi</td>\n",
       "      <td>['&gt;#393,597 in Toys &amp; Games (See Top 100 in To...</td>\n",
       "      <td>Toys &amp; Games</td>\n",
       "      <td>$6.54</td>\n",
       "    </tr>\n",
       "    <tr>\n",
       "      <th>1</th>\n",
       "      <td>4</td>\n",
       "      <td>True</td>\n",
       "      <td>11 20, 2013</td>\n",
       "      <td>A2681T699HV6H1</td>\n",
       "      <td>Courtney R</td>\n",
       "      <td>very cute and went great with my Halloween cos...</td>\n",
       "      <td>loved it!</td>\n",
       "      <td>['Sports &amp; Outdoors', 'Sports &amp; Fitness', 'Oth...</td>\n",
       "      <td>['Dance tutu for girls ages 2-8 years. Perfect...</td>\n",
       "      <td>Girls Ballet Tutu Neon Blue</td>\n",
       "      <td>Bububibi</td>\n",
       "      <td>['&gt;#393,597 in Toys &amp; Games (See Top 100 in To...</td>\n",
       "      <td>Toys &amp; Games</td>\n",
       "      <td>$6.54</td>\n",
       "    </tr>\n",
       "    <tr>\n",
       "      <th>2</th>\n",
       "      <td>1</td>\n",
       "      <td>True</td>\n",
       "      <td>10 21, 2016</td>\n",
       "      <td>A374PA18DCGS5Y</td>\n",
       "      <td>Julie Ortiz</td>\n",
       "      <td>This item is very cheaply made and not full li...</td>\n",
       "      <td>One Star</td>\n",
       "      <td>['Sports &amp; Outdoors', 'Sports &amp; Fitness', 'Oth...</td>\n",
       "      <td>['Dance tutu for girls ages 2-8 years. Perfect...</td>\n",
       "      <td>Girls Ballet Tutu Neon Blue</td>\n",
       "      <td>Bububibi</td>\n",
       "      <td>['&gt;#393,597 in Toys &amp; Games (See Top 100 in To...</td>\n",
       "      <td>Toys &amp; Games</td>\n",
       "      <td>$6.54</td>\n",
       "    </tr>\n",
       "    <tr>\n",
       "      <th>3</th>\n",
       "      <td>5</td>\n",
       "      <td>True</td>\n",
       "      <td>10 18, 2016</td>\n",
       "      <td>A14PVW2N5YBWSA</td>\n",
       "      <td>Denise M.</td>\n",
       "      <td>cute</td>\n",
       "      <td>Five Stars</td>\n",
       "      <td>['Sports &amp; Outdoors', 'Sports &amp; Fitness', 'Oth...</td>\n",
       "      <td>['Dance tutu for girls ages 2-8 years. Perfect...</td>\n",
       "      <td>Girls Ballet Tutu Neon Blue</td>\n",
       "      <td>Bububibi</td>\n",
       "      <td>['&gt;#393,597 in Toys &amp; Games (See Top 100 in To...</td>\n",
       "      <td>Toys &amp; Games</td>\n",
       "      <td>$6.54</td>\n",
       "    </tr>\n",
       "    <tr>\n",
       "      <th>4</th>\n",
       "      <td>1</td>\n",
       "      <td>True</td>\n",
       "      <td>10 17, 2016</td>\n",
       "      <td>A2KWBC44QI2567</td>\n",
       "      <td>Danielle Zollar</td>\n",
       "      <td>Not as full as the picture suggests and it sme...</td>\n",
       "      <td>Smelly !</td>\n",
       "      <td>['Sports &amp; Outdoors', 'Sports &amp; Fitness', 'Oth...</td>\n",
       "      <td>['Dance tutu for girls ages 2-8 years. Perfect...</td>\n",
       "      <td>Girls Ballet Tutu Neon Blue</td>\n",
       "      <td>Bububibi</td>\n",
       "      <td>['&gt;#393,597 in Toys &amp; Games (See Top 100 in To...</td>\n",
       "      <td>Toys &amp; Games</td>\n",
       "      <td>$6.54</td>\n",
       "    </tr>\n",
       "  </tbody>\n",
       "</table>\n",
       "</div>\n",
       "      <button class=\"colab-df-convert\" onclick=\"convertToInteractive('df-6c1d0ba9-e1a8-4706-ab04-1370f9a12309')\"\n",
       "              title=\"Convert this dataframe to an interactive table.\"\n",
       "              style=\"display:none;\">\n",
       "        \n",
       "  <svg xmlns=\"http://www.w3.org/2000/svg\" height=\"24px\"viewBox=\"0 0 24 24\"\n",
       "       width=\"24px\">\n",
       "    <path d=\"M0 0h24v24H0V0z\" fill=\"none\"/>\n",
       "    <path d=\"M18.56 5.44l.94 2.06.94-2.06 2.06-.94-2.06-.94-.94-2.06-.94 2.06-2.06.94zm-11 1L8.5 8.5l.94-2.06 2.06-.94-2.06-.94L8.5 2.5l-.94 2.06-2.06.94zm10 10l.94 2.06.94-2.06 2.06-.94-2.06-.94-.94-2.06-.94 2.06-2.06.94z\"/><path d=\"M17.41 7.96l-1.37-1.37c-.4-.4-.92-.59-1.43-.59-.52 0-1.04.2-1.43.59L10.3 9.45l-7.72 7.72c-.78.78-.78 2.05 0 2.83L4 21.41c.39.39.9.59 1.41.59.51 0 1.02-.2 1.41-.59l7.78-7.78 2.81-2.81c.8-.78.8-2.07 0-2.86zM5.41 20L4 18.59l7.72-7.72 1.47 1.35L5.41 20z\"/>\n",
       "  </svg>\n",
       "      </button>\n",
       "      \n",
       "  <style>\n",
       "    .colab-df-container {\n",
       "      display:flex;\n",
       "      flex-wrap:wrap;\n",
       "      gap: 12px;\n",
       "    }\n",
       "\n",
       "    .colab-df-convert {\n",
       "      background-color: #E8F0FE;\n",
       "      border: none;\n",
       "      border-radius: 50%;\n",
       "      cursor: pointer;\n",
       "      display: none;\n",
       "      fill: #1967D2;\n",
       "      height: 32px;\n",
       "      padding: 0 0 0 0;\n",
       "      width: 32px;\n",
       "    }\n",
       "\n",
       "    .colab-df-convert:hover {\n",
       "      background-color: #E2EBFA;\n",
       "      box-shadow: 0px 1px 2px rgba(60, 64, 67, 0.3), 0px 1px 3px 1px rgba(60, 64, 67, 0.15);\n",
       "      fill: #174EA6;\n",
       "    }\n",
       "\n",
       "    [theme=dark] .colab-df-convert {\n",
       "      background-color: #3B4455;\n",
       "      fill: #D2E3FC;\n",
       "    }\n",
       "\n",
       "    [theme=dark] .colab-df-convert:hover {\n",
       "      background-color: #434B5C;\n",
       "      box-shadow: 0px 1px 3px 1px rgba(0, 0, 0, 0.15);\n",
       "      filter: drop-shadow(0px 1px 2px rgba(0, 0, 0, 0.3));\n",
       "      fill: #FFFFFF;\n",
       "    }\n",
       "  </style>\n",
       "\n",
       "      <script>\n",
       "        const buttonEl =\n",
       "          document.querySelector('#df-6c1d0ba9-e1a8-4706-ab04-1370f9a12309 button.colab-df-convert');\n",
       "        buttonEl.style.display =\n",
       "          google.colab.kernel.accessAllowed ? 'block' : 'none';\n",
       "\n",
       "        async function convertToInteractive(key) {\n",
       "          const element = document.querySelector('#df-6c1d0ba9-e1a8-4706-ab04-1370f9a12309');\n",
       "          const dataTable =\n",
       "            await google.colab.kernel.invokeFunction('convertToInteractive',\n",
       "                                                     [key], {});\n",
       "          if (!dataTable) return;\n",
       "\n",
       "          const docLinkHtml = 'Like what you see? Visit the ' +\n",
       "            '<a target=\"_blank\" href=https://colab.research.google.com/notebooks/data_table.ipynb>data table notebook</a>'\n",
       "            + ' to learn more about interactive tables.';\n",
       "          element.innerHTML = '';\n",
       "          dataTable['output_type'] = 'display_data';\n",
       "          await google.colab.output.renderOutput(dataTable, element);\n",
       "          const docLink = document.createElement('div');\n",
       "          docLink.innerHTML = docLinkHtml;\n",
       "          element.appendChild(docLink);\n",
       "        }\n",
       "      </script>\n",
       "    </div>\n",
       "  </div>\n",
       "  "
      ],
      "text/plain": [
       "  overall verified   reviewTime      reviewerID     reviewerName  \\\n",
       "0       5    False   02 1, 2014  A23K73OVXJ04EG       Lamb612000   \n",
       "1       4     True  11 20, 2013  A2681T699HV6H1       Courtney R   \n",
       "2       1     True  10 21, 2016  A374PA18DCGS5Y      Julie Ortiz   \n",
       "3       5     True  10 18, 2016  A14PVW2N5YBWSA        Denise M.   \n",
       "4       1     True  10 17, 2016  A2KWBC44QI2567  Danielle Zollar   \n",
       "\n",
       "                                          reviewText         summary  \\\n",
       "0  It was as described and fit my 6 year old gran...  Neon Blue Tutu   \n",
       "1  very cute and went great with my Halloween cos...       loved it!   \n",
       "2  This item is very cheaply made and not full li...        One Star   \n",
       "3                                               cute      Five Stars   \n",
       "4  Not as full as the picture suggests and it sme...        Smelly !   \n",
       "\n",
       "                                            category  \\\n",
       "0  ['Sports & Outdoors', 'Sports & Fitness', 'Oth...   \n",
       "1  ['Sports & Outdoors', 'Sports & Fitness', 'Oth...   \n",
       "2  ['Sports & Outdoors', 'Sports & Fitness', 'Oth...   \n",
       "3  ['Sports & Outdoors', 'Sports & Fitness', 'Oth...   \n",
       "4  ['Sports & Outdoors', 'Sports & Fitness', 'Oth...   \n",
       "\n",
       "                                         description  \\\n",
       "0  ['Dance tutu for girls ages 2-8 years. Perfect...   \n",
       "1  ['Dance tutu for girls ages 2-8 years. Perfect...   \n",
       "2  ['Dance tutu for girls ages 2-8 years. Perfect...   \n",
       "3  ['Dance tutu for girls ages 2-8 years. Perfect...   \n",
       "4  ['Dance tutu for girls ages 2-8 years. Perfect...   \n",
       "\n",
       "                         title     brand  \\\n",
       "0  Girls Ballet Tutu Neon Blue  Bububibi   \n",
       "1  Girls Ballet Tutu Neon Blue  Bububibi   \n",
       "2  Girls Ballet Tutu Neon Blue  Bububibi   \n",
       "3  Girls Ballet Tutu Neon Blue  Bububibi   \n",
       "4  Girls Ballet Tutu Neon Blue  Bububibi   \n",
       "\n",
       "                                                rank      main_cat  price  \n",
       "0  ['>#393,597 in Toys & Games (See Top 100 in To...  Toys & Games  $6.54  \n",
       "1  ['>#393,597 in Toys & Games (See Top 100 in To...  Toys & Games  $6.54  \n",
       "2  ['>#393,597 in Toys & Games (See Top 100 in To...  Toys & Games  $6.54  \n",
       "3  ['>#393,597 in Toys & Games (See Top 100 in To...  Toys & Games  $6.54  \n",
       "4  ['>#393,597 in Toys & Games (See Top 100 in To...  Toys & Games  $6.54  "
      ]
     },
     "execution_count": 15,
     "metadata": {},
     "output_type": "execute_result"
    }
   ],
   "source": [
    "clean_data.head()"
   ]
  },
  {
   "cell_type": "code",
   "execution_count": 16,
   "metadata": {
    "id": "ax5Q_z6ROHXB"
   },
   "outputs": [],
   "source": [
    "import numpy as np\n",
    "clean_data.insert(12,\"sentiment\",np.nan)"
   ]
  },
  {
   "cell_type": "code",
   "execution_count": 17,
   "metadata": {
    "id": "7Jb0xgQmTpy8"
   },
   "outputs": [],
   "source": [
    "clean_data[\"overall\"] = clean_data[\"overall\"].astype(int)"
   ]
  },
  {
   "cell_type": "code",
   "execution_count": 18,
   "metadata": {
    "id": "ZEVAb7YWQNr4"
   },
   "outputs": [],
   "source": [
    "clean_data.loc[clean_data[\"overall\"] == 3,\"sentiment\"]=\"Neutral\"\n",
    "clean_data.loc[clean_data[\"overall\"] > 3,\"sentiment\"]=\"Positive\"\n",
    "clean_data.loc[clean_data[\"overall\"] < 3,\"sentiment\"]=\"Negative\""
   ]
  },
  {
   "cell_type": "code",
   "execution_count": 19,
   "metadata": {
    "id": "_41REP1VTTZS"
   },
   "outputs": [],
   "source": [
    "clean_data['category'] = clean_data['category'].apply(str)"
   ]
  },
  {
   "cell_type": "code",
   "execution_count": 20,
   "metadata": {
    "colab": {
     "base_uri": "https://localhost:8080/"
    },
    "id": "tRX_4vMNiFxF",
    "outputId": "4130a655-6b38-4a95-acee-9206885614cb"
   },
   "outputs": [
    {
     "name": "stdout",
     "output_type": "stream",
     "text": [
      "datetime64[ns]\n"
     ]
    }
   ],
   "source": [
    "clean_data['reviewTime'] = pd.to_datetime(clean_data['reviewTime'], format='%m %d, %Y')\n",
    "print(clean_data['reviewTime'].dtype)"
   ]
  },
  {
   "cell_type": "code",
   "execution_count": 21,
   "metadata": {
    "colab": {
     "base_uri": "https://localhost:8080/",
     "height": 634
    },
    "id": "QJCL2qvPlNGQ",
    "outputId": "29a09e2b-f5cd-48cf-dd41-1651f62510eb"
   },
   "outputs": [
    {
     "data": {
      "text/html": [
       "\n",
       "  <div id=\"df-87a9b8f5-1b8c-464e-83f6-481eee2f8b1d\">\n",
       "    <div class=\"colab-df-container\">\n",
       "      <div>\n",
       "<style scoped>\n",
       "    .dataframe tbody tr th:only-of-type {\n",
       "        vertical-align: middle;\n",
       "    }\n",
       "\n",
       "    .dataframe tbody tr th {\n",
       "        vertical-align: top;\n",
       "    }\n",
       "\n",
       "    .dataframe thead th {\n",
       "        text-align: right;\n",
       "    }\n",
       "</style>\n",
       "<table border=\"1\" class=\"dataframe\">\n",
       "  <thead>\n",
       "    <tr style=\"text-align: right;\">\n",
       "      <th></th>\n",
       "      <th>overall</th>\n",
       "      <th>verified</th>\n",
       "      <th>reviewTime</th>\n",
       "      <th>reviewerID</th>\n",
       "      <th>reviewerName</th>\n",
       "      <th>reviewText</th>\n",
       "      <th>summary</th>\n",
       "      <th>category</th>\n",
       "      <th>description</th>\n",
       "      <th>title</th>\n",
       "      <th>brand</th>\n",
       "      <th>rank</th>\n",
       "      <th>sentiment</th>\n",
       "      <th>main_cat</th>\n",
       "      <th>price</th>\n",
       "      <th>year</th>\n",
       "    </tr>\n",
       "  </thead>\n",
       "  <tbody>\n",
       "    <tr>\n",
       "      <th>8357</th>\n",
       "      <td>4</td>\n",
       "      <td>False</td>\n",
       "      <td>1999-11-25</td>\n",
       "      <td>A1S9MLLFC314RV</td>\n",
       "      <td>B. Symonds</td>\n",
       "      <td>I teach yoga and my students seem to like this...</td>\n",
       "      <td>Enjoyable experience</td>\n",
       "      <td>['Sports &amp; Outdoors', 'Sports &amp; Fitness', 'Exe...</td>\n",
       "      <td>['Yoga Sound by Wai Lana &amp; Siddha', \"&lt;i&gt;When s...</td>\n",
       "      <td>Yoga Sound</td>\n",
       "      <td>Wai Lana</td>\n",
       "      <td>367,125 in CDs &amp; Vinyl (</td>\n",
       "      <td>Positive</td>\n",
       "      <td>&lt;img src=\"https://images-na.ssl-images-amazon....</td>\n",
       "      <td>$9.99</td>\n",
       "      <td>1999</td>\n",
       "    </tr>\n",
       "    <tr>\n",
       "      <th>12596</th>\n",
       "      <td>3</td>\n",
       "      <td>True</td>\n",
       "      <td>2000-05-17</td>\n",
       "      <td>A23NC65S4DFCHS</td>\n",
       "      <td>Zee</td>\n",
       "      <td>The hammock requires 12 + feet to hang in.  If...</td>\n",
       "      <td>What you need to know...</td>\n",
       "      <td>['Sports &amp; Outdoors', 'Outdoor Recreation', 'C...</td>\n",
       "      <td>['Gentle swinging motion and free floating mid...</td>\n",
       "      <td>Omni Castaway Rope Hammock</td>\n",
       "      <td>Omni-Swings 'N Things</td>\n",
       "      <td>['&gt;#1,272,313 in Patio, Lawn &amp; Garden (See Top...</td>\n",
       "      <td>Neutral</td>\n",
       "      <td>Amazon Home</td>\n",
       "      <td></td>\n",
       "      <td>2000</td>\n",
       "    </tr>\n",
       "    <tr>\n",
       "      <th>12492</th>\n",
       "      <td>5</td>\n",
       "      <td>False</td>\n",
       "      <td>2000-05-02</td>\n",
       "      <td>A1CBNUBPZPWH5D</td>\n",
       "      <td>Boston Lesbian</td>\n",
       "      <td>I bought this griddle because I wanted to cook...</td>\n",
       "      <td>A wonderful Griddle</td>\n",
       "      <td>['Sports &amp; Outdoors', 'Outdoor Recreation', 'C...</td>\n",
       "      <td>['The griddle of your dreams! Larger than the ...</td>\n",
       "      <td>Lodge Original Finish Pro Grid/Iron Griddle</td>\n",
       "      <td>Lodge</td>\n",
       "      <td>['&gt;#1,716,463 in Kitchen &amp; Dining (See Top 100...</td>\n",
       "      <td>Positive</td>\n",
       "      <td>Amazon Home</td>\n",
       "      <td></td>\n",
       "      <td>2000</td>\n",
       "    </tr>\n",
       "    <tr>\n",
       "      <th>12490</th>\n",
       "      <td>5</td>\n",
       "      <td>False</td>\n",
       "      <td>2000-05-14</td>\n",
       "      <td>A3OQLCINQIMOJC</td>\n",
       "      <td>greg leaf</td>\n",
       "      <td>Lodge has the best cast iron of anyone.  This ...</td>\n",
       "      <td>great equipment, bullet proof</td>\n",
       "      <td>['Sports &amp; Outdoors', 'Outdoor Recreation', 'C...</td>\n",
       "      <td>['The griddle of your dreams! Larger than the ...</td>\n",
       "      <td>Lodge Original Finish Pro Grid/Iron Griddle</td>\n",
       "      <td>Lodge</td>\n",
       "      <td>['&gt;#1,716,463 in Kitchen &amp; Dining (See Top 100...</td>\n",
       "      <td>Positive</td>\n",
       "      <td>Amazon Home</td>\n",
       "      <td></td>\n",
       "      <td>2000</td>\n",
       "    </tr>\n",
       "    <tr>\n",
       "      <th>12488</th>\n",
       "      <td>1</td>\n",
       "      <td>False</td>\n",
       "      <td>2000-10-02</td>\n",
       "      <td>A25PD5YQS1E5Z9</td>\n",
       "      <td>Helena</td>\n",
       "      <td>I have another cast iron kitchen product and a...</td>\n",
       "      <td>Doesn't work for me!</td>\n",
       "      <td>['Sports &amp; Outdoors', 'Outdoor Recreation', 'C...</td>\n",
       "      <td>['The griddle of your dreams! Larger than the ...</td>\n",
       "      <td>Lodge Original Finish Pro Grid/Iron Griddle</td>\n",
       "      <td>Lodge</td>\n",
       "      <td>['&gt;#1,716,463 in Kitchen &amp; Dining (See Top 100...</td>\n",
       "      <td>Negative</td>\n",
       "      <td>Amazon Home</td>\n",
       "      <td></td>\n",
       "      <td>2000</td>\n",
       "    </tr>\n",
       "  </tbody>\n",
       "</table>\n",
       "</div>\n",
       "      <button class=\"colab-df-convert\" onclick=\"convertToInteractive('df-87a9b8f5-1b8c-464e-83f6-481eee2f8b1d')\"\n",
       "              title=\"Convert this dataframe to an interactive table.\"\n",
       "              style=\"display:none;\">\n",
       "        \n",
       "  <svg xmlns=\"http://www.w3.org/2000/svg\" height=\"24px\"viewBox=\"0 0 24 24\"\n",
       "       width=\"24px\">\n",
       "    <path d=\"M0 0h24v24H0V0z\" fill=\"none\"/>\n",
       "    <path d=\"M18.56 5.44l.94 2.06.94-2.06 2.06-.94-2.06-.94-.94-2.06-.94 2.06-2.06.94zm-11 1L8.5 8.5l.94-2.06 2.06-.94-2.06-.94L8.5 2.5l-.94 2.06-2.06.94zm10 10l.94 2.06.94-2.06 2.06-.94-2.06-.94-.94-2.06-.94 2.06-2.06.94z\"/><path d=\"M17.41 7.96l-1.37-1.37c-.4-.4-.92-.59-1.43-.59-.52 0-1.04.2-1.43.59L10.3 9.45l-7.72 7.72c-.78.78-.78 2.05 0 2.83L4 21.41c.39.39.9.59 1.41.59.51 0 1.02-.2 1.41-.59l7.78-7.78 2.81-2.81c.8-.78.8-2.07 0-2.86zM5.41 20L4 18.59l7.72-7.72 1.47 1.35L5.41 20z\"/>\n",
       "  </svg>\n",
       "      </button>\n",
       "      \n",
       "  <style>\n",
       "    .colab-df-container {\n",
       "      display:flex;\n",
       "      flex-wrap:wrap;\n",
       "      gap: 12px;\n",
       "    }\n",
       "\n",
       "    .colab-df-convert {\n",
       "      background-color: #E8F0FE;\n",
       "      border: none;\n",
       "      border-radius: 50%;\n",
       "      cursor: pointer;\n",
       "      display: none;\n",
       "      fill: #1967D2;\n",
       "      height: 32px;\n",
       "      padding: 0 0 0 0;\n",
       "      width: 32px;\n",
       "    }\n",
       "\n",
       "    .colab-df-convert:hover {\n",
       "      background-color: #E2EBFA;\n",
       "      box-shadow: 0px 1px 2px rgba(60, 64, 67, 0.3), 0px 1px 3px 1px rgba(60, 64, 67, 0.15);\n",
       "      fill: #174EA6;\n",
       "    }\n",
       "\n",
       "    [theme=dark] .colab-df-convert {\n",
       "      background-color: #3B4455;\n",
       "      fill: #D2E3FC;\n",
       "    }\n",
       "\n",
       "    [theme=dark] .colab-df-convert:hover {\n",
       "      background-color: #434B5C;\n",
       "      box-shadow: 0px 1px 3px 1px rgba(0, 0, 0, 0.15);\n",
       "      filter: drop-shadow(0px 1px 2px rgba(0, 0, 0, 0.3));\n",
       "      fill: #FFFFFF;\n",
       "    }\n",
       "  </style>\n",
       "\n",
       "      <script>\n",
       "        const buttonEl =\n",
       "          document.querySelector('#df-87a9b8f5-1b8c-464e-83f6-481eee2f8b1d button.colab-df-convert');\n",
       "        buttonEl.style.display =\n",
       "          google.colab.kernel.accessAllowed ? 'block' : 'none';\n",
       "\n",
       "        async function convertToInteractive(key) {\n",
       "          const element = document.querySelector('#df-87a9b8f5-1b8c-464e-83f6-481eee2f8b1d');\n",
       "          const dataTable =\n",
       "            await google.colab.kernel.invokeFunction('convertToInteractive',\n",
       "                                                     [key], {});\n",
       "          if (!dataTable) return;\n",
       "\n",
       "          const docLinkHtml = 'Like what you see? Visit the ' +\n",
       "            '<a target=\"_blank\" href=https://colab.research.google.com/notebooks/data_table.ipynb>data table notebook</a>'\n",
       "            + ' to learn more about interactive tables.';\n",
       "          element.innerHTML = '';\n",
       "          dataTable['output_type'] = 'display_data';\n",
       "          await google.colab.output.renderOutput(dataTable, element);\n",
       "          const docLink = document.createElement('div');\n",
       "          docLink.innerHTML = docLinkHtml;\n",
       "          element.appendChild(docLink);\n",
       "        }\n",
       "      </script>\n",
       "    </div>\n",
       "  </div>\n",
       "  "
      ],
      "text/plain": [
       "       overall verified reviewTime      reviewerID    reviewerName  \\\n",
       "8357         4    False 1999-11-25  A1S9MLLFC314RV      B. Symonds   \n",
       "12596        3     True 2000-05-17  A23NC65S4DFCHS             Zee   \n",
       "12492        5    False 2000-05-02  A1CBNUBPZPWH5D  Boston Lesbian   \n",
       "12490        5    False 2000-05-14  A3OQLCINQIMOJC       greg leaf   \n",
       "12488        1    False 2000-10-02  A25PD5YQS1E5Z9          Helena   \n",
       "\n",
       "                                              reviewText  \\\n",
       "8357   I teach yoga and my students seem to like this...   \n",
       "12596  The hammock requires 12 + feet to hang in.  If...   \n",
       "12492  I bought this griddle because I wanted to cook...   \n",
       "12490  Lodge has the best cast iron of anyone.  This ...   \n",
       "12488  I have another cast iron kitchen product and a...   \n",
       "\n",
       "                             summary  \\\n",
       "8357            Enjoyable experience   \n",
       "12596       What you need to know...   \n",
       "12492            A wonderful Griddle   \n",
       "12490  great equipment, bullet proof   \n",
       "12488           Doesn't work for me!   \n",
       "\n",
       "                                                category  \\\n",
       "8357   ['Sports & Outdoors', 'Sports & Fitness', 'Exe...   \n",
       "12596  ['Sports & Outdoors', 'Outdoor Recreation', 'C...   \n",
       "12492  ['Sports & Outdoors', 'Outdoor Recreation', 'C...   \n",
       "12490  ['Sports & Outdoors', 'Outdoor Recreation', 'C...   \n",
       "12488  ['Sports & Outdoors', 'Outdoor Recreation', 'C...   \n",
       "\n",
       "                                             description  \\\n",
       "8357   ['Yoga Sound by Wai Lana & Siddha', \"<i>When s...   \n",
       "12596  ['Gentle swinging motion and free floating mid...   \n",
       "12492  ['The griddle of your dreams! Larger than the ...   \n",
       "12490  ['The griddle of your dreams! Larger than the ...   \n",
       "12488  ['The griddle of your dreams! Larger than the ...   \n",
       "\n",
       "                                             title                  brand  \\\n",
       "8357                                    Yoga Sound               Wai Lana   \n",
       "12596                   Omni Castaway Rope Hammock  Omni-Swings 'N Things   \n",
       "12492  Lodge Original Finish Pro Grid/Iron Griddle                  Lodge   \n",
       "12490  Lodge Original Finish Pro Grid/Iron Griddle                  Lodge   \n",
       "12488  Lodge Original Finish Pro Grid/Iron Griddle                  Lodge   \n",
       "\n",
       "                                                    rank sentiment  \\\n",
       "8357                            367,125 in CDs & Vinyl (  Positive   \n",
       "12596  ['>#1,272,313 in Patio, Lawn & Garden (See Top...   Neutral   \n",
       "12492  ['>#1,716,463 in Kitchen & Dining (See Top 100...  Positive   \n",
       "12490  ['>#1,716,463 in Kitchen & Dining (See Top 100...  Positive   \n",
       "12488  ['>#1,716,463 in Kitchen & Dining (See Top 100...  Negative   \n",
       "\n",
       "                                                main_cat  price  year  \n",
       "8357   <img src=\"https://images-na.ssl-images-amazon....  $9.99  1999  \n",
       "12596                                        Amazon Home         2000  \n",
       "12492                                        Amazon Home         2000  \n",
       "12490                                        Amazon Home         2000  \n",
       "12488                                        Amazon Home         2000  "
      ]
     },
     "execution_count": 21,
     "metadata": {},
     "output_type": "execute_result"
    }
   ],
   "source": [
    "clean_data['year'] = clean_data['reviewTime'].dt.year\n",
    "clean_data = clean_data.sort_values(by='year', ascending=True)\n",
    "clean_data.head()"
   ]
  },
  {
   "cell_type": "code",
   "execution_count": 22,
   "metadata": {
    "colab": {
     "base_uri": "https://localhost:8080/"
    },
    "id": "-0bcrVaPmzNI",
    "outputId": "73b31246-044d-44ed-ef75-858ae67829b6"
   },
   "outputs": [
    {
     "data": {
      "text/plain": [
       "(497763, 16)"
      ]
     },
     "execution_count": 22,
     "metadata": {},
     "output_type": "execute_result"
    }
   ],
   "source": [
    "clean_data.shape"
   ]
  },
  {
   "cell_type": "code",
   "execution_count": 23,
   "metadata": {
    "id": "qQVns3zV2iio"
   },
   "outputs": [],
   "source": [
    "import seaborn as sns"
   ]
  },
  {
   "cell_type": "code",
   "execution_count": 24,
   "metadata": {
    "id": "TKahlWGhIvMf"
   },
   "outputs": [],
   "source": [
    "import re"
   ]
  },
  {
   "cell_type": "code",
   "execution_count": 25,
   "metadata": {
    "id": "l0WLq9SpJBIL"
   },
   "outputs": [],
   "source": [
    "clean_data[\"category\"] = clean_data[\"category\"].apply(lambda x: re.sub(\"\\W+\",\" \", x))"
   ]
  },
  {
   "cell_type": "code",
   "execution_count": 26,
   "metadata": {
    "id": "I6K5qVLwLb1v"
   },
   "outputs": [],
   "source": [
    "clean_data[\"description\"] = clean_data[\"description\"].apply(lambda x: re.sub(\"\\W+\",\" \", x))"
   ]
  },
  {
   "cell_type": "code",
   "execution_count": 27,
   "metadata": {
    "id": "Kni_RLUiLutx"
   },
   "outputs": [],
   "source": [
    "clean_data[\"rank\"] = clean_data[\"rank\"].apply(lambda x: re.sub(\"\\W+\",\" \", x))"
   ]
  },
  {
   "cell_type": "code",
   "execution_count": 28,
   "metadata": {
    "id": "5jgRtJvn6nHq"
   },
   "outputs": [],
   "source": [
    "clean_data[\"title\"] = clean_data[\"title\"].apply(lambda x: re.sub(\"\\W+\",\" \", x))"
   ]
  },
  {
   "cell_type": "code",
   "execution_count": 29,
   "metadata": {
    "colab": {
     "base_uri": "https://localhost:8080/",
     "height": 840
    },
    "id": "gOFCobzWMiS8",
    "outputId": "d879c3a8-8dc2-45b2-e270-199435b822b4"
   },
   "outputs": [
    {
     "data": {
      "text/html": [
       "\n",
       "  <div id=\"df-93505026-2b57-4538-bad5-d0cb64914abc\">\n",
       "    <div class=\"colab-df-container\">\n",
       "      <div>\n",
       "<style scoped>\n",
       "    .dataframe tbody tr th:only-of-type {\n",
       "        vertical-align: middle;\n",
       "    }\n",
       "\n",
       "    .dataframe tbody tr th {\n",
       "        vertical-align: top;\n",
       "    }\n",
       "\n",
       "    .dataframe thead th {\n",
       "        text-align: right;\n",
       "    }\n",
       "</style>\n",
       "<table border=\"1\" class=\"dataframe\">\n",
       "  <thead>\n",
       "    <tr style=\"text-align: right;\">\n",
       "      <th></th>\n",
       "      <th>overall</th>\n",
       "      <th>verified</th>\n",
       "      <th>reviewTime</th>\n",
       "      <th>reviewerID</th>\n",
       "      <th>reviewerName</th>\n",
       "      <th>reviewText</th>\n",
       "      <th>summary</th>\n",
       "      <th>category</th>\n",
       "      <th>description</th>\n",
       "      <th>title</th>\n",
       "      <th>brand</th>\n",
       "      <th>rank</th>\n",
       "      <th>sentiment</th>\n",
       "      <th>main_cat</th>\n",
       "      <th>price</th>\n",
       "      <th>year</th>\n",
       "    </tr>\n",
       "  </thead>\n",
       "  <tbody>\n",
       "    <tr>\n",
       "      <th>8357</th>\n",
       "      <td>4</td>\n",
       "      <td>False</td>\n",
       "      <td>1999-11-25</td>\n",
       "      <td>A1S9MLLFC314RV</td>\n",
       "      <td>B. Symonds</td>\n",
       "      <td>I teach yoga and my students seem to like this...</td>\n",
       "      <td>Enjoyable experience</td>\n",
       "      <td>Sports Outdoors Sports Fitness Exercise Fitne...</td>\n",
       "      <td>Yoga Sound by Wai Lana Siddha i When sold by ...</td>\n",
       "      <td>Yoga Sound</td>\n",
       "      <td>Wai Lana</td>\n",
       "      <td>367 125 in CDs Vinyl</td>\n",
       "      <td>Positive</td>\n",
       "      <td>&lt;img src=\"https://images-na.ssl-images-amazon....</td>\n",
       "      <td>$9.99</td>\n",
       "      <td>1999</td>\n",
       "    </tr>\n",
       "    <tr>\n",
       "      <th>12596</th>\n",
       "      <td>3</td>\n",
       "      <td>True</td>\n",
       "      <td>2000-05-17</td>\n",
       "      <td>A23NC65S4DFCHS</td>\n",
       "      <td>Zee</td>\n",
       "      <td>The hammock requires 12 + feet to hang in.  If...</td>\n",
       "      <td>What you need to know...</td>\n",
       "      <td>Sports Outdoors Outdoor Recreation Camping Hi...</td>\n",
       "      <td>Gentle swinging motion and free floating mid ...</td>\n",
       "      <td>Omni Castaway Rope Hammock</td>\n",
       "      <td>Omni-Swings 'N Things</td>\n",
       "      <td>1 272 313 in Patio Lawn Garden See Top 100 in...</td>\n",
       "      <td>Neutral</td>\n",
       "      <td>Amazon Home</td>\n",
       "      <td></td>\n",
       "      <td>2000</td>\n",
       "    </tr>\n",
       "    <tr>\n",
       "      <th>12492</th>\n",
       "      <td>5</td>\n",
       "      <td>False</td>\n",
       "      <td>2000-05-02</td>\n",
       "      <td>A1CBNUBPZPWH5D</td>\n",
       "      <td>Boston Lesbian</td>\n",
       "      <td>I bought this griddle because I wanted to cook...</td>\n",
       "      <td>A wonderful Griddle</td>\n",
       "      <td>Sports Outdoors Outdoor Recreation Camping Hi...</td>\n",
       "      <td>The griddle of your dreams Larger than the Gr...</td>\n",
       "      <td>Lodge Original Finish Pro Grid Iron Griddle</td>\n",
       "      <td>Lodge</td>\n",
       "      <td>1 716 463 in Kitchen Dining See Top 100 in Ki...</td>\n",
       "      <td>Positive</td>\n",
       "      <td>Amazon Home</td>\n",
       "      <td></td>\n",
       "      <td>2000</td>\n",
       "    </tr>\n",
       "    <tr>\n",
       "      <th>12490</th>\n",
       "      <td>5</td>\n",
       "      <td>False</td>\n",
       "      <td>2000-05-14</td>\n",
       "      <td>A3OQLCINQIMOJC</td>\n",
       "      <td>greg leaf</td>\n",
       "      <td>Lodge has the best cast iron of anyone.  This ...</td>\n",
       "      <td>great equipment, bullet proof</td>\n",
       "      <td>Sports Outdoors Outdoor Recreation Camping Hi...</td>\n",
       "      <td>The griddle of your dreams Larger than the Gr...</td>\n",
       "      <td>Lodge Original Finish Pro Grid Iron Griddle</td>\n",
       "      <td>Lodge</td>\n",
       "      <td>1 716 463 in Kitchen Dining See Top 100 in Ki...</td>\n",
       "      <td>Positive</td>\n",
       "      <td>Amazon Home</td>\n",
       "      <td></td>\n",
       "      <td>2000</td>\n",
       "    </tr>\n",
       "    <tr>\n",
       "      <th>12488</th>\n",
       "      <td>1</td>\n",
       "      <td>False</td>\n",
       "      <td>2000-10-02</td>\n",
       "      <td>A25PD5YQS1E5Z9</td>\n",
       "      <td>Helena</td>\n",
       "      <td>I have another cast iron kitchen product and a...</td>\n",
       "      <td>Doesn't work for me!</td>\n",
       "      <td>Sports Outdoors Outdoor Recreation Camping Hi...</td>\n",
       "      <td>The griddle of your dreams Larger than the Gr...</td>\n",
       "      <td>Lodge Original Finish Pro Grid Iron Griddle</td>\n",
       "      <td>Lodge</td>\n",
       "      <td>1 716 463 in Kitchen Dining See Top 100 in Ki...</td>\n",
       "      <td>Negative</td>\n",
       "      <td>Amazon Home</td>\n",
       "      <td></td>\n",
       "      <td>2000</td>\n",
       "    </tr>\n",
       "  </tbody>\n",
       "</table>\n",
       "</div>\n",
       "      <button class=\"colab-df-convert\" onclick=\"convertToInteractive('df-93505026-2b57-4538-bad5-d0cb64914abc')\"\n",
       "              title=\"Convert this dataframe to an interactive table.\"\n",
       "              style=\"display:none;\">\n",
       "        \n",
       "  <svg xmlns=\"http://www.w3.org/2000/svg\" height=\"24px\"viewBox=\"0 0 24 24\"\n",
       "       width=\"24px\">\n",
       "    <path d=\"M0 0h24v24H0V0z\" fill=\"none\"/>\n",
       "    <path d=\"M18.56 5.44l.94 2.06.94-2.06 2.06-.94-2.06-.94-.94-2.06-.94 2.06-2.06.94zm-11 1L8.5 8.5l.94-2.06 2.06-.94-2.06-.94L8.5 2.5l-.94 2.06-2.06.94zm10 10l.94 2.06.94-2.06 2.06-.94-2.06-.94-.94-2.06-.94 2.06-2.06.94z\"/><path d=\"M17.41 7.96l-1.37-1.37c-.4-.4-.92-.59-1.43-.59-.52 0-1.04.2-1.43.59L10.3 9.45l-7.72 7.72c-.78.78-.78 2.05 0 2.83L4 21.41c.39.39.9.59 1.41.59.51 0 1.02-.2 1.41-.59l7.78-7.78 2.81-2.81c.8-.78.8-2.07 0-2.86zM5.41 20L4 18.59l7.72-7.72 1.47 1.35L5.41 20z\"/>\n",
       "  </svg>\n",
       "      </button>\n",
       "      \n",
       "  <style>\n",
       "    .colab-df-container {\n",
       "      display:flex;\n",
       "      flex-wrap:wrap;\n",
       "      gap: 12px;\n",
       "    }\n",
       "\n",
       "    .colab-df-convert {\n",
       "      background-color: #E8F0FE;\n",
       "      border: none;\n",
       "      border-radius: 50%;\n",
       "      cursor: pointer;\n",
       "      display: none;\n",
       "      fill: #1967D2;\n",
       "      height: 32px;\n",
       "      padding: 0 0 0 0;\n",
       "      width: 32px;\n",
       "    }\n",
       "\n",
       "    .colab-df-convert:hover {\n",
       "      background-color: #E2EBFA;\n",
       "      box-shadow: 0px 1px 2px rgba(60, 64, 67, 0.3), 0px 1px 3px 1px rgba(60, 64, 67, 0.15);\n",
       "      fill: #174EA6;\n",
       "    }\n",
       "\n",
       "    [theme=dark] .colab-df-convert {\n",
       "      background-color: #3B4455;\n",
       "      fill: #D2E3FC;\n",
       "    }\n",
       "\n",
       "    [theme=dark] .colab-df-convert:hover {\n",
       "      background-color: #434B5C;\n",
       "      box-shadow: 0px 1px 3px 1px rgba(0, 0, 0, 0.15);\n",
       "      filter: drop-shadow(0px 1px 2px rgba(0, 0, 0, 0.3));\n",
       "      fill: #FFFFFF;\n",
       "    }\n",
       "  </style>\n",
       "\n",
       "      <script>\n",
       "        const buttonEl =\n",
       "          document.querySelector('#df-93505026-2b57-4538-bad5-d0cb64914abc button.colab-df-convert');\n",
       "        buttonEl.style.display =\n",
       "          google.colab.kernel.accessAllowed ? 'block' : 'none';\n",
       "\n",
       "        async function convertToInteractive(key) {\n",
       "          const element = document.querySelector('#df-93505026-2b57-4538-bad5-d0cb64914abc');\n",
       "          const dataTable =\n",
       "            await google.colab.kernel.invokeFunction('convertToInteractive',\n",
       "                                                     [key], {});\n",
       "          if (!dataTable) return;\n",
       "\n",
       "          const docLinkHtml = 'Like what you see? Visit the ' +\n",
       "            '<a target=\"_blank\" href=https://colab.research.google.com/notebooks/data_table.ipynb>data table notebook</a>'\n",
       "            + ' to learn more about interactive tables.';\n",
       "          element.innerHTML = '';\n",
       "          dataTable['output_type'] = 'display_data';\n",
       "          await google.colab.output.renderOutput(dataTable, element);\n",
       "          const docLink = document.createElement('div');\n",
       "          docLink.innerHTML = docLinkHtml;\n",
       "          element.appendChild(docLink);\n",
       "        }\n",
       "      </script>\n",
       "    </div>\n",
       "  </div>\n",
       "  "
      ],
      "text/plain": [
       "       overall verified reviewTime      reviewerID    reviewerName  \\\n",
       "8357         4    False 1999-11-25  A1S9MLLFC314RV      B. Symonds   \n",
       "12596        3     True 2000-05-17  A23NC65S4DFCHS             Zee   \n",
       "12492        5    False 2000-05-02  A1CBNUBPZPWH5D  Boston Lesbian   \n",
       "12490        5    False 2000-05-14  A3OQLCINQIMOJC       greg leaf   \n",
       "12488        1    False 2000-10-02  A25PD5YQS1E5Z9          Helena   \n",
       "\n",
       "                                              reviewText  \\\n",
       "8357   I teach yoga and my students seem to like this...   \n",
       "12596  The hammock requires 12 + feet to hang in.  If...   \n",
       "12492  I bought this griddle because I wanted to cook...   \n",
       "12490  Lodge has the best cast iron of anyone.  This ...   \n",
       "12488  I have another cast iron kitchen product and a...   \n",
       "\n",
       "                             summary  \\\n",
       "8357            Enjoyable experience   \n",
       "12596       What you need to know...   \n",
       "12492            A wonderful Griddle   \n",
       "12490  great equipment, bullet proof   \n",
       "12488           Doesn't work for me!   \n",
       "\n",
       "                                                category  \\\n",
       "8357    Sports Outdoors Sports Fitness Exercise Fitne...   \n",
       "12596   Sports Outdoors Outdoor Recreation Camping Hi...   \n",
       "12492   Sports Outdoors Outdoor Recreation Camping Hi...   \n",
       "12490   Sports Outdoors Outdoor Recreation Camping Hi...   \n",
       "12488   Sports Outdoors Outdoor Recreation Camping Hi...   \n",
       "\n",
       "                                             description  \\\n",
       "8357    Yoga Sound by Wai Lana Siddha i When sold by ...   \n",
       "12596   Gentle swinging motion and free floating mid ...   \n",
       "12492   The griddle of your dreams Larger than the Gr...   \n",
       "12490   The griddle of your dreams Larger than the Gr...   \n",
       "12488   The griddle of your dreams Larger than the Gr...   \n",
       "\n",
       "                                             title                  brand  \\\n",
       "8357                                    Yoga Sound               Wai Lana   \n",
       "12596                   Omni Castaway Rope Hammock  Omni-Swings 'N Things   \n",
       "12492  Lodge Original Finish Pro Grid Iron Griddle                  Lodge   \n",
       "12490  Lodge Original Finish Pro Grid Iron Griddle                  Lodge   \n",
       "12488  Lodge Original Finish Pro Grid Iron Griddle                  Lodge   \n",
       "\n",
       "                                                    rank sentiment  \\\n",
       "8357                               367 125 in CDs Vinyl   Positive   \n",
       "12596   1 272 313 in Patio Lawn Garden See Top 100 in...   Neutral   \n",
       "12492   1 716 463 in Kitchen Dining See Top 100 in Ki...  Positive   \n",
       "12490   1 716 463 in Kitchen Dining See Top 100 in Ki...  Positive   \n",
       "12488   1 716 463 in Kitchen Dining See Top 100 in Ki...  Negative   \n",
       "\n",
       "                                                main_cat  price  year  \n",
       "8357   <img src=\"https://images-na.ssl-images-amazon....  $9.99  1999  \n",
       "12596                                        Amazon Home         2000  \n",
       "12492                                        Amazon Home         2000  \n",
       "12490                                        Amazon Home         2000  \n",
       "12488                                        Amazon Home         2000  "
      ]
     },
     "execution_count": 29,
     "metadata": {},
     "output_type": "execute_result"
    }
   ],
   "source": [
    "clean_data.head()"
   ]
  },
  {
   "cell_type": "code",
   "execution_count": 30,
   "metadata": {
    "colab": {
     "base_uri": "https://localhost:8080/",
     "height": 466
    },
    "id": "dH-MJy3CMlsq",
    "outputId": "daf6e5a0-7bed-43f1-e9f0-613f9a397e64"
   },
   "outputs": [
    {
     "data": {
      "text/plain": [
       "<Axes: xlabel='overall', ylabel='count'>"
      ]
     },
     "execution_count": 30,
     "metadata": {},
     "output_type": "execute_result"
    },
    {
     "data": {
      "image/png": "[encoded data removed]",
      "text/plain": [
       "<Figure size 640x480 with 1 Axes>"
      ]
     },
     "metadata": {},
     "output_type": "display_data"
    }
   ],
   "source": [
    "sns.countplot(x=\"overall\", data=clean_data)"
   ]
  },
  {
   "cell_type": "code",
   "execution_count": 31,
   "metadata": {
    "colab": {
     "base_uri": "https://localhost:8080/",
     "height": 428
    },
    "id": "q42nZxT-Mz6Z",
    "outputId": "68577239-bc26-4f51-9ace-a652b224fcf5"
   },
   "outputs": [
    {
     "data": {
      "image/png": "[encoded data removed]",
      "text/plain": [
       "<Figure size 640x480 with 1 Axes>"
      ]
     },
     "metadata": {},
     "output_type": "display_data"
    }
   ],
   "source": [
    "import matplotlib.pyplot as plt\n",
    "\n",
    "sentiment_counts = clean_data['sentiment'].value_counts()\n",
    "labels = sentiment_counts.index\n",
    "sizes = sentiment_counts.values\n",
    "colors = ['lightskyblue', 'lightcoral','green']\n",
    "\n",
    "fig1, ax1 = plt.subplots()\n",
    "ax1.pie(sizes, colors=colors, labels=labels, autopct='%1.1f%%', startangle=90)\n",
    "ax1.axis('equal')\n",
    "\n",
    "plt.title(\"Sentiment Distribution\")\n",
    "plt.show()"
   ]
  },
  {
   "cell_type": "code",
   "execution_count": 32,
   "metadata": {
    "colab": {
     "base_uri": "https://localhost:8080/",
     "height": 466
    },
    "id": "1YmBz1mePDee",
    "outputId": "6b2dcb36-4d9f-4249-a165-8e007d63a31a"
   },
   "outputs": [
    {
     "data": {
      "text/plain": [
       "<Axes: xlabel='year', ylabel='overall'>"
      ]
     },
     "execution_count": 32,
     "metadata": {},
     "output_type": "execute_result"
    },
    {
     "data": {
      "image/png": "[encoded data removed]",
      "text/plain": [
       "<Figure size 640x480 with 1 Axes>"
      ]
     },
     "metadata": {},
     "output_type": "display_data"
    }
   ],
   "source": [
    "clean_data['year'] = clean_data['year'].astype(int)\n",
    "sns.lineplot(x=\"year\", y=\"overall\", data=clean_data)"
   ]
  },
  {
   "cell_type": "code",
   "execution_count": 32,
   "metadata": {
    "id": "9NXhxKAYP0yu"
   },
   "outputs": [],
   "source": []
  },
  {
   "cell_type": "code",
   "execution_count": 33,
   "metadata": {
    "colab": {
     "base_uri": "https://localhost:8080/",
     "height": 466
    },
    "id": "tlfz_uGoQdon",
    "outputId": "112ec88d-6645-4bce-93b9-1a1a721deb7c"
   },
   "outputs": [
    {
     "data": {
      "text/plain": [
       "<Axes: xlabel='count', ylabel='verified'>"
      ]
     },
     "execution_count": 33,
     "metadata": {},
     "output_type": "execute_result"
    },
    {
     "data": {
      "image/png": "[encoded data removed]",
      "text/plain": [
       "<Figure size 640x480 with 1 Axes>"
      ]
     },
     "metadata": {},
     "output_type": "display_data"
    }
   ],
   "source": [
    "sns.countplot(y='verified', data=clean_data)"
   ]
  },
  {
   "cell_type": "code",
   "execution_count": 34,
   "metadata": {
    "id": "xFSUcUkgSBoz"
   },
   "outputs": [],
   "source": [
    "import numpy as np\n",
    "clean_data['brand'] = clean_data['brand'].replace(r'^\\s*$', np.nan, regex=True)"
   ]
  },
  {
   "cell_type": "code",
   "execution_count": 35,
   "metadata": {
    "id": "DX2TVzDhSM_m"
   },
   "outputs": [],
   "source": [
    "clean_data[\"brand\"].dropna(inplace=True)"
   ]
  },
  {
   "cell_type": "code",
   "execution_count": 36,
   "metadata": {
    "colab": {
     "base_uri": "https://localhost:8080/",
     "height": 466
    },
    "id": "ZywzVncy1cX-",
    "outputId": "86f5a74e-1450-4562-ee4e-b232375d3763"
   },
   "outputs": [
    {
     "data": {
      "text/plain": [
       "<Axes: xlabel='count', ylabel='brand'>"
      ]
     },
     "execution_count": 36,
     "metadata": {},
     "output_type": "execute_result"
    },
    {
     "data": {
      "image/png": "[encoded data removed]",
      "text/plain": [
       "<Figure size 640x480 with 1 Axes>"
      ]
     },
     "metadata": {},
     "output_type": "display_data"
    }
   ],
   "source": [
    "top_brands = clean_data['brand'].value_counts().nlargest(10)\n",
    "sns.countplot(y='brand', data=clean_data, order=top_brands.index)"
   ]
  },
  {
   "cell_type": "code",
   "execution_count": 37,
   "metadata": {
    "id": "cLcXwVKWS0LY"
   },
   "outputs": [],
   "source": [
    "clean_data[\"category\"].replace(r'^\\s*$',np.nan,inplace=True)"
   ]
  },
  {
   "cell_type": "code",
   "execution_count": 38,
   "metadata": {
    "id": "nka7klKCP2XB"
   },
   "outputs": [],
   "source": [
    "clean_data[\"rank\"].replace(r'^\\s*$',np.nan,inplace=True)"
   ]
  },
  {
   "cell_type": "code",
   "execution_count": 39,
   "metadata": {
    "id": "A1qJbOckP7C2"
   },
   "outputs": [],
   "source": [
    "clean_data[\"main_cat\"].replace(r'^\\s*$',np.nan,inplace=True)"
   ]
  },
  {
   "cell_type": "code",
   "execution_count": 40,
   "metadata": {
    "id": "M6_hZb9S1gwg"
   },
   "outputs": [],
   "source": [
    "clean_data[\"title\"].replace(r'^\\s*$',np.nan,inplace=True)"
   ]
  },
  {
   "cell_type": "code",
   "execution_count": 41,
   "metadata": {
    "colab": {
     "base_uri": "https://localhost:8080/"
    },
    "id": "XXDNKuHo1x9_",
    "outputId": "e8207f0e-c866-477e-853c-0a8ea5055b00"
   },
   "outputs": [
    {
     "data": {
      "text/plain": [
       "overall             0\n",
       "verified            0\n",
       "reviewTime          0\n",
       "reviewerID          0\n",
       "reviewerName        0\n",
       "reviewText          0\n",
       "summary             0\n",
       "category            0\n",
       "description         0\n",
       "title               0\n",
       "brand           17147\n",
       "rank                0\n",
       "sentiment           0\n",
       "main_cat            0\n",
       "price               0\n",
       "year                0\n",
       "dtype: int64"
      ]
     },
     "execution_count": 41,
     "metadata": {},
     "output_type": "execute_result"
    }
   ],
   "source": [
    "clean_data.isnull().sum()"
   ]
  },
  {
   "cell_type": "code",
   "execution_count": 42,
   "metadata": {
    "id": "L1toW6BvQaJD"
   },
   "outputs": [],
   "source": [
    "clean_data.dropna(inplace=True)"
   ]
  },
  {
   "cell_type": "code",
   "execution_count": 43,
   "metadata": {
    "colab": {
     "base_uri": "https://localhost:8080/",
     "height": 753
    },
    "id": "OHG0m9hkQ-cI",
    "outputId": "6d46ff43-fc2e-46de-fefe-a4ef401a9bd6"
   },
   "outputs": [
    {
     "data": {
      "text/html": [
       "\n",
       "  <div id=\"df-004f27d9-3eff-4431-bcfa-691030811794\">\n",
       "    <div class=\"colab-df-container\">\n",
       "      <div>\n",
       "<style scoped>\n",
       "    .dataframe tbody tr th:only-of-type {\n",
       "        vertical-align: middle;\n",
       "    }\n",
       "\n",
       "    .dataframe tbody tr th {\n",
       "        vertical-align: top;\n",
       "    }\n",
       "\n",
       "    .dataframe thead th {\n",
       "        text-align: right;\n",
       "    }\n",
       "</style>\n",
       "<table border=\"1\" class=\"dataframe\">\n",
       "  <thead>\n",
       "    <tr style=\"text-align: right;\">\n",
       "      <th></th>\n",
       "      <th>overall</th>\n",
       "      <th>verified</th>\n",
       "      <th>reviewTime</th>\n",
       "      <th>reviewerID</th>\n",
       "      <th>reviewerName</th>\n",
       "      <th>reviewText</th>\n",
       "      <th>summary</th>\n",
       "      <th>category</th>\n",
       "      <th>description</th>\n",
       "      <th>title</th>\n",
       "      <th>brand</th>\n",
       "      <th>rank</th>\n",
       "      <th>sentiment</th>\n",
       "      <th>main_cat</th>\n",
       "      <th>price</th>\n",
       "      <th>year</th>\n",
       "    </tr>\n",
       "  </thead>\n",
       "  <tbody>\n",
       "    <tr>\n",
       "      <th>0</th>\n",
       "      <td>4</td>\n",
       "      <td>False</td>\n",
       "      <td>1999-11-25 00:00:00</td>\n",
       "      <td>A1S9MLLFC314RV</td>\n",
       "      <td>B. Symonds</td>\n",
       "      <td>I teach yoga and my students seem to like this...</td>\n",
       "      <td>Enjoyable experience</td>\n",
       "      <td>Sports Outdoors Sports Fitness Exercise Fitne...</td>\n",
       "      <td>Yoga Sound by Wai Lana Siddha i When sold by ...</td>\n",
       "      <td>Yoga Sound</td>\n",
       "      <td>Wai Lana</td>\n",
       "      <td>367 125 in CDs Vinyl</td>\n",
       "      <td>Positive</td>\n",
       "      <td>Digital Music</td>\n",
       "      <td>9.99</td>\n",
       "      <td>1999.0</td>\n",
       "    </tr>\n",
       "    <tr>\n",
       "      <th>1</th>\n",
       "      <td>3</td>\n",
       "      <td>True</td>\n",
       "      <td>2000-05-17 00:00:00</td>\n",
       "      <td>A23NC65S4DFCHS</td>\n",
       "      <td>Zee</td>\n",
       "      <td>The hammock requires 12 + feet to hang in.  If...</td>\n",
       "      <td>What you need to know...</td>\n",
       "      <td>Sports Outdoors Outdoor Recreation Camping Hi...</td>\n",
       "      <td>Gentle swinging motion and free floating mid ...</td>\n",
       "      <td>Omni Castaway Rope Hammock</td>\n",
       "      <td>Omni-Swings 'N Things</td>\n",
       "      <td>1 272 313 in Patio Lawn Garden See Top 100 in...</td>\n",
       "      <td>Neutral</td>\n",
       "      <td>Amazon Home</td>\n",
       "      <td>NaN</td>\n",
       "      <td>2000.0</td>\n",
       "    </tr>\n",
       "    <tr>\n",
       "      <th>2</th>\n",
       "      <td>5</td>\n",
       "      <td>False</td>\n",
       "      <td>2000-05-02 00:00:00</td>\n",
       "      <td>A1CBNUBPZPWH5D</td>\n",
       "      <td>Boston Lesbian</td>\n",
       "      <td>I bought this griddle because I wanted to cook...</td>\n",
       "      <td>A wonderful Griddle</td>\n",
       "      <td>Sports Outdoors Outdoor Recreation Camping Hi...</td>\n",
       "      <td>The griddle of your dreams Larger than the Gr...</td>\n",
       "      <td>Lodge Original Finish Pro Grid Iron Griddle</td>\n",
       "      <td>Lodge</td>\n",
       "      <td>1 716 463 in Kitchen Dining See Top 100 in Ki...</td>\n",
       "      <td>Positive</td>\n",
       "      <td>Amazon Home</td>\n",
       "      <td>NaN</td>\n",
       "      <td>2000.0</td>\n",
       "    </tr>\n",
       "    <tr>\n",
       "      <th>3</th>\n",
       "      <td>5</td>\n",
       "      <td>False</td>\n",
       "      <td>2000-05-14 00:00:00</td>\n",
       "      <td>A3OQLCINQIMOJC</td>\n",
       "      <td>greg leaf</td>\n",
       "      <td>Lodge has the best cast iron of anyone.  This ...</td>\n",
       "      <td>great equipment, bullet proof</td>\n",
       "      <td>Sports Outdoors Outdoor Recreation Camping Hi...</td>\n",
       "      <td>The griddle of your dreams Larger than the Gr...</td>\n",
       "      <td>Lodge Original Finish Pro Grid Iron Griddle</td>\n",
       "      <td>Lodge</td>\n",
       "      <td>1 716 463 in Kitchen Dining See Top 100 in Ki...</td>\n",
       "      <td>Positive</td>\n",
       "      <td>Amazon Home</td>\n",
       "      <td>NaN</td>\n",
       "      <td>2000.0</td>\n",
       "    </tr>\n",
       "    <tr>\n",
       "      <th>4</th>\n",
       "      <td>1</td>\n",
       "      <td>False</td>\n",
       "      <td>2000-10-02 00:00:00</td>\n",
       "      <td>A25PD5YQS1E5Z9</td>\n",
       "      <td>Helena</td>\n",
       "      <td>I have another cast iron kitchen product and a...</td>\n",
       "      <td>Doesn't work for me!</td>\n",
       "      <td>Sports Outdoors Outdoor Recreation Camping Hi...</td>\n",
       "      <td>The griddle of your dreams Larger than the Gr...</td>\n",
       "      <td>Lodge Original Finish Pro Grid Iron Griddle</td>\n",
       "      <td>Lodge</td>\n",
       "      <td>1 716 463 in Kitchen Dining See Top 100 in Ki...</td>\n",
       "      <td>Negative</td>\n",
       "      <td>Amazon Home</td>\n",
       "      <td>NaN</td>\n",
       "      <td>2000.0</td>\n",
       "    </tr>\n",
       "  </tbody>\n",
       "</table>\n",
       "</div>\n",
       "      <button class=\"colab-df-convert\" onclick=\"convertToInteractive('df-004f27d9-3eff-4431-bcfa-691030811794')\"\n",
       "              title=\"Convert this dataframe to an interactive table.\"\n",
       "              style=\"display:none;\">\n",
       "        \n",
       "  <svg xmlns=\"http://www.w3.org/2000/svg\" height=\"24px\"viewBox=\"0 0 24 24\"\n",
       "       width=\"24px\">\n",
       "    <path d=\"M0 0h24v24H0V0z\" fill=\"none\"/>\n",
       "    <path d=\"M18.56 5.44l.94 2.06.94-2.06 2.06-.94-2.06-.94-.94-2.06-.94 2.06-2.06.94zm-11 1L8.5 8.5l.94-2.06 2.06-.94-2.06-.94L8.5 2.5l-.94 2.06-2.06.94zm10 10l.94 2.06.94-2.06 2.06-.94-2.06-.94-.94-2.06-.94 2.06-2.06.94z\"/><path d=\"M17.41 7.96l-1.37-1.37c-.4-.4-.92-.59-1.43-.59-.52 0-1.04.2-1.43.59L10.3 9.45l-7.72 7.72c-.78.78-.78 2.05 0 2.83L4 21.41c.39.39.9.59 1.41.59.51 0 1.02-.2 1.41-.59l7.78-7.78 2.81-2.81c.8-.78.8-2.07 0-2.86zM5.41 20L4 18.59l7.72-7.72 1.47 1.35L5.41 20z\"/>\n",
       "  </svg>\n",
       "      </button>\n",
       "      \n",
       "  <style>\n",
       "    .colab-df-container {\n",
       "      display:flex;\n",
       "      flex-wrap:wrap;\n",
       "      gap: 12px;\n",
       "    }\n",
       "\n",
       "    .colab-df-convert {\n",
       "      background-color: #E8F0FE;\n",
       "      border: none;\n",
       "      border-radius: 50%;\n",
       "      cursor: pointer;\n",
       "      display: none;\n",
       "      fill: #1967D2;\n",
       "      height: 32px;\n",
       "      padding: 0 0 0 0;\n",
       "      width: 32px;\n",
       "    }\n",
       "\n",
       "    .colab-df-convert:hover {\n",
       "      background-color: #E2EBFA;\n",
       "      box-shadow: 0px 1px 2px rgba(60, 64, 67, 0.3), 0px 1px 3px 1px rgba(60, 64, 67, 0.15);\n",
       "      fill: #174EA6;\n",
       "    }\n",
       "\n",
       "    [theme=dark] .colab-df-convert {\n",
       "      background-color: #3B4455;\n",
       "      fill: #D2E3FC;\n",
       "    }\n",
       "\n",
       "    [theme=dark] .colab-df-convert:hover {\n",
       "      background-color: #434B5C;\n",
       "      box-shadow: 0px 1px 3px 1px rgba(0, 0, 0, 0.15);\n",
       "      filter: drop-shadow(0px 1px 2px rgba(0, 0, 0, 0.3));\n",
       "      fill: #FFFFFF;\n",
       "    }\n",
       "  </style>\n",
       "\n",
       "      <script>\n",
       "        const buttonEl =\n",
       "          document.querySelector('#df-004f27d9-3eff-4431-bcfa-691030811794 button.colab-df-convert');\n",
       "        buttonEl.style.display =\n",
       "          google.colab.kernel.accessAllowed ? 'block' : 'none';\n",
       "\n",
       "        async function convertToInteractive(key) {\n",
       "          const element = document.querySelector('#df-004f27d9-3eff-4431-bcfa-691030811794');\n",
       "          const dataTable =\n",
       "            await google.colab.kernel.invokeFunction('convertToInteractive',\n",
       "                                                     [key], {});\n",
       "          if (!dataTable) return;\n",
       "\n",
       "          const docLinkHtml = 'Like what you see? Visit the ' +\n",
       "            '<a target=\"_blank\" href=https://colab.research.google.com/notebooks/data_table.ipynb>data table notebook</a>'\n",
       "            + ' to learn more about interactive tables.';\n",
       "          element.innerHTML = '';\n",
       "          dataTable['output_type'] = 'display_data';\n",
       "          await google.colab.output.renderOutput(dataTable, element);\n",
       "          const docLink = document.createElement('div');\n",
       "          docLink.innerHTML = docLinkHtml;\n",
       "          element.appendChild(docLink);\n",
       "        }\n",
       "      </script>\n",
       "    </div>\n",
       "  </div>\n",
       "  "
      ],
      "text/plain": [
       "  overall verified           reviewTime      reviewerID    reviewerName  \\\n",
       "0       4    False  1999-11-25 00:00:00  A1S9MLLFC314RV      B. Symonds   \n",
       "1       3     True  2000-05-17 00:00:00  A23NC65S4DFCHS             Zee   \n",
       "2       5    False  2000-05-02 00:00:00  A1CBNUBPZPWH5D  Boston Lesbian   \n",
       "3       5    False  2000-05-14 00:00:00  A3OQLCINQIMOJC       greg leaf   \n",
       "4       1    False  2000-10-02 00:00:00  A25PD5YQS1E5Z9          Helena   \n",
       "\n",
       "                                          reviewText  \\\n",
       "0  I teach yoga and my students seem to like this...   \n",
       "1  The hammock requires 12 + feet to hang in.  If...   \n",
       "2  I bought this griddle because I wanted to cook...   \n",
       "3  Lodge has the best cast iron of anyone.  This ...   \n",
       "4  I have another cast iron kitchen product and a...   \n",
       "\n",
       "                         summary  \\\n",
       "0           Enjoyable experience   \n",
       "1       What you need to know...   \n",
       "2            A wonderful Griddle   \n",
       "3  great equipment, bullet proof   \n",
       "4           Doesn't work for me!   \n",
       "\n",
       "                                            category  \\\n",
       "0   Sports Outdoors Sports Fitness Exercise Fitne...   \n",
       "1   Sports Outdoors Outdoor Recreation Camping Hi...   \n",
       "2   Sports Outdoors Outdoor Recreation Camping Hi...   \n",
       "3   Sports Outdoors Outdoor Recreation Camping Hi...   \n",
       "4   Sports Outdoors Outdoor Recreation Camping Hi...   \n",
       "\n",
       "                                         description  \\\n",
       "0   Yoga Sound by Wai Lana Siddha i When sold by ...   \n",
       "1   Gentle swinging motion and free floating mid ...   \n",
       "2   The griddle of your dreams Larger than the Gr...   \n",
       "3   The griddle of your dreams Larger than the Gr...   \n",
       "4   The griddle of your dreams Larger than the Gr...   \n",
       "\n",
       "                                         title                  brand  \\\n",
       "0                                   Yoga Sound               Wai Lana   \n",
       "1                   Omni Castaway Rope Hammock  Omni-Swings 'N Things   \n",
       "2  Lodge Original Finish Pro Grid Iron Griddle                  Lodge   \n",
       "3  Lodge Original Finish Pro Grid Iron Griddle                  Lodge   \n",
       "4  Lodge Original Finish Pro Grid Iron Griddle                  Lodge   \n",
       "\n",
       "                                                rank sentiment       main_cat  \\\n",
       "0                              367 125 in CDs Vinyl   Positive  Digital Music   \n",
       "1   1 272 313 in Patio Lawn Garden See Top 100 in...   Neutral    Amazon Home   \n",
       "2   1 716 463 in Kitchen Dining See Top 100 in Ki...  Positive    Amazon Home   \n",
       "3   1 716 463 in Kitchen Dining See Top 100 in Ki...  Positive    Amazon Home   \n",
       "4   1 716 463 in Kitchen Dining See Top 100 in Ki...  Negative    Amazon Home   \n",
       "\n",
       "  price    year  \n",
       "0  9.99  1999.0  \n",
       "1   NaN  2000.0  \n",
       "2   NaN  2000.0  \n",
       "3   NaN  2000.0  \n",
       "4   NaN  2000.0  "
      ]
     },
     "execution_count": 43,
     "metadata": {},
     "output_type": "execute_result"
    }
   ],
   "source": [
    "import pandas as pd\n",
    "df_2 = pd.read_excel(r\"/content/drive/MyDrive/Sports_and_outdoors_orginal_clean_data.xlsx\")\n",
    "df_2.head()"
   ]
  },
  {
   "cell_type": "code",
   "execution_count": 44,
   "metadata": {
    "colab": {
     "base_uri": "https://localhost:8080/"
    },
    "id": "gvR1XsyaVzpc",
    "outputId": "91f20cb5-276c-4d5d-a308-0c9e078d510e"
   },
   "outputs": [
    {
     "data": {
      "text/plain": [
       "(484444, 16)"
      ]
     },
     "execution_count": 44,
     "metadata": {},
     "output_type": "execute_result"
    }
   ],
   "source": [
    "df_2.shape"
   ]
  },
  {
   "cell_type": "code",
   "execution_count": 45,
   "metadata": {
    "id": "mfm4-zdYV6ai"
   },
   "outputs": [],
   "source": [
    "df_2.dropna(inplace=True)"
   ]
  },
  {
   "cell_type": "code",
   "execution_count": 46,
   "metadata": {
    "id": "E64m-KeXZNnq"
   },
   "outputs": [],
   "source": [
    "clean_data = df_2"
   ]
  },
  {
   "cell_type": "code",
   "execution_count": 47,
   "metadata": {
    "colab": {
     "base_uri": "https://localhost:8080/"
    },
    "id": "w0eVzsncgekp",
    "outputId": "4514dfeb-448a-4251-8f53-fec18013ea10"
   },
   "outputs": [
    {
     "data": {
      "text/plain": [
       "(372129, 16)"
      ]
     },
     "execution_count": 47,
     "metadata": {},
     "output_type": "execute_result"
    }
   ],
   "source": [
    "clean_data.shape"
   ]
  },
  {
   "cell_type": "code",
   "execution_count": 48,
   "metadata": {
    "id": "6fsGk647aIkq"
   },
   "outputs": [],
   "source": [
    "clean_data[\"reviewText\"] = clean_data[\"reviewText\"].astype(str)\n",
    "clean_data[\"summary\"] = clean_data[\"summary\"].astype(str)\n",
    "clean_data[\"Text\"] = clean_data[\"reviewText\"]+\"     \"+clean_data[\"summary\"]"
   ]
  },
  {
   "cell_type": "code",
   "execution_count": 49,
   "metadata": {
    "id": "tznS3ad2S9zo"
   },
   "outputs": [],
   "source": [
    "clean_data[\"Text\"] = clean_data[\"Text\"].apply(lambda x: re.sub(\"\\W+\",\" \", x))"
   ]
  },
  {
   "cell_type": "code",
   "execution_count": 50,
   "metadata": {
    "colab": {
     "base_uri": "https://localhost:8080/"
    },
    "id": "UNRa_aIsu9Po",
    "outputId": "68b88bf2-b5ac-4f03-9228-9720c7a9e309"
   },
   "outputs": [
    {
     "data": {
      "text/plain": [
       "17.32              6680\n",
       "19.99              5815\n",
       "11.99              4803\n",
       "3.59               4034\n",
       "17.07              3463\n",
       "                   ... \n",
       "16.04                 1\n",
       "31.16                 1\n",
       "80.91                 1\n",
       "9.57                  1\n",
       "$1.38 - $155.00       1\n",
       "Name: price, Length: 2032, dtype: int64"
      ]
     },
     "execution_count": 50,
     "metadata": {},
     "output_type": "execute_result"
    }
   ],
   "source": [
    "clean_data[\"price\"].value_counts()"
   ]
  },
  {
   "cell_type": "code",
   "execution_count": 51,
   "metadata": {
    "colab": {
     "base_uri": "https://localhost:8080/"
    },
    "id": "MZWic_rQ8S4f",
    "outputId": "c2523b8d-7c17-49a5-f68b-7dde3d354d4c"
   },
   "outputs": [
    {
     "name": "stderr",
     "output_type": "stream",
     "text": [
      "[nltk_data] Downloading package stopwords to /root/nltk_data...\n",
      "[nltk_data]   Package stopwords is already up-to-date!\n",
      "[nltk_data] Downloading package punkt to /root/nltk_data...\n",
      "[nltk_data]   Package punkt is already up-to-date!\n"
     ]
    },
    {
     "data": {
      "text/plain": [
       "True"
      ]
     },
     "execution_count": 51,
     "metadata": {},
     "output_type": "execute_result"
    }
   ],
   "source": [
    "import nltk\n",
    "nltk.download(\"stopwords\")\n",
    "from nltk.corpus import stopwords\n",
    "nltk.download('punkt')"
   ]
  },
  {
   "cell_type": "code",
   "execution_count": 52,
   "metadata": {
    "id": "jwAAlqmK7sF7"
   },
   "outputs": [],
   "source": [
    "text_1 = clean_data[\"Text\"].astype(str)\n",
    "text_1 = text_1[:150000]\n",
    "import string\n",
    "def text_process(text):\n",
    "    nonpunc = [char for char in text if char not in string.punctuation]\n",
    "    nonpunc = \"\".join(nonpunc)\n",
    "    return [word for word in nonpunc.split() if word.lower() not in stopwords.words(\"english\")]"
   ]
  },
  {
   "cell_type": "code",
   "execution_count": 53,
   "metadata": {
    "id": "4BCNYULr76lf"
   },
   "outputs": [],
   "source": [
    "x = text_1.apply(text_process)"
   ]
  },
  {
   "cell_type": "code",
   "execution_count": 54,
   "metadata": {
    "id": "0Q3g83lxTN-n"
   },
   "outputs": [],
   "source": [
    "def stringtolist(s):\n",
    "    str1 = \" \"\n",
    "    return(str1.join(s))"
   ]
  },
  {
   "cell_type": "code",
   "execution_count": 55,
   "metadata": {
    "id": "QfVubCofTPnN"
   },
   "outputs": [],
   "source": [
    "x = x.apply(stringtolist)"
   ]
  },
  {
   "cell_type": "code",
   "execution_count": 56,
   "metadata": {
    "id": "hyJ361I3R_ub"
   },
   "outputs": [],
   "source": [
    "y=(clean_data[\"sentiment\"])\n",
    "y = y[:150000]\n"
   ]
  },
  {
   "cell_type": "code",
   "execution_count": 57,
   "metadata": {
    "id": "flnI_uJMSJmg"
   },
   "outputs": [],
   "source": [
    "from sklearn.model_selection import train_test_split\n",
    "x_train,x_test,y_train,y_test = train_test_split(x,y,train_size=0.8,random_state=42)"
   ]
  },
  {
   "cell_type": "code",
   "execution_count": 58,
   "metadata": {
    "colab": {
     "base_uri": "https://localhost:8080/"
    },
    "id": "yiLHd3vISxGp",
    "outputId": "fec9e4b4-94bc-40f6-eb2c-44291ab5650e"
   },
   "outputs": [
    {
     "name": "stderr",
     "output_type": "stream",
     "text": [
      "[Parallel(n_jobs=1)]: Using backend SequentialBackend with 1 concurrent workers.\n",
      "[Parallel(n_jobs=1)]: Done   1 out of   1 | elapsed:    8.4s finished\n",
      "[Parallel(n_jobs=1)]: Using backend SequentialBackend with 1 concurrent workers.\n",
      "[Parallel(n_jobs=1)]: Done   1 out of   1 | elapsed:    8.4s finished\n",
      "[Parallel(n_jobs=1)]: Using backend SequentialBackend with 1 concurrent workers.\n",
      "[Parallel(n_jobs=1)]: Done   1 out of   1 | elapsed:   10.6s finished\n"
     ]
    }
   ],
   "source": [
    "from sklearn.linear_model import LogisticRegression\n",
    "from sklearn.multiclass import OneVsRestClassifier\n",
    "from sklearn.feature_extraction.text import TfidfVectorizer\n",
    "from sklearn.metrics import confusion_matrix,f1_score,recall_score,accuracy_score,precision_score\n",
    "tfidf = TfidfVectorizer()\n",
    "x_train = tfidf.fit_transform(x_train)\n",
    "x_test = tfidf.transform(x_test)\n",
    "clf = LogisticRegression(max_iter=200,verbose=1)\n",
    "ovr = OneVsRestClassifier(clf).fit(x_train,y_train)\n",
    "y_predicted = ovr.predict(x_test)"
   ]
  },
  {
   "cell_type": "code",
   "execution_count": 59,
   "metadata": {
    "colab": {
     "base_uri": "https://localhost:8080/"
    },
    "id": "Foky5AmZhESm",
    "outputId": "b16aabf1-9da5-4d60-cb4d-6f3bdb740953"
   },
   "outputs": [
    {
     "data": {
      "text/plain": [
       "array([[ 2024,   100,  1147],\n",
       "       [  352,   442,  1470],\n",
       "       [  212,   124, 24129]])"
      ]
     },
     "execution_count": 59,
     "metadata": {},
     "output_type": "execute_result"
    }
   ],
   "source": [
    "cm = confusion_matrix(y_test,y_predicted)\n",
    "cm"
   ]
  },
  {
   "cell_type": "code",
   "execution_count": 60,
   "metadata": {
    "colab": {
     "base_uri": "https://localhost:8080/"
    },
    "id": "4HSWl1TehpHj",
    "outputId": "8dafa50c-b242-4da3-9f9f-8f5de3699af4"
   },
   "outputs": [
    {
     "name": "stdout",
     "output_type": "stream",
     "text": [
      "Classification report for testing data :-\n",
      "              precision    recall  f1-score   support\n",
      "\n",
      "    Negative       0.78      0.62      0.69      3271\n",
      "     Neutral       0.66      0.20      0.30      2264\n",
      "    Positive       0.90      0.99      0.94     24465\n",
      "\n",
      "    accuracy                           0.89     30000\n",
      "   macro avg       0.78      0.60      0.64     30000\n",
      "weighted avg       0.87      0.89      0.87     30000\n",
      "\n"
     ]
    }
   ],
   "source": [
    "from sklearn.metrics import classification_report\n",
    "print(\"Classification report for testing data :-\")\n",
    "print(classification_report(y_test,y_predicted))"
   ]
  },
  {
   "cell_type": "code",
   "execution_count": 61,
   "metadata": {
    "id": "6QgZoz7mhvmi"
   },
   "outputs": [],
   "source": [
    "y_actual = ovr.predict(x_train)"
   ]
  },
  {
   "cell_type": "code",
   "execution_count": 62,
   "metadata": {
    "colab": {
     "base_uri": "https://localhost:8080/"
    },
    "id": "mjho4KeCjDNT",
    "outputId": "cef383c7-fdd0-4934-c6c5-0ca108fe6f49"
   },
   "outputs": [
    {
     "data": {
      "text/plain": [
       "array([[ 8826,   318,  3764],\n",
       "       [ 1225,  2068,  5920],\n",
       "       [  656,   392, 96831]])"
      ]
     },
     "execution_count": 62,
     "metadata": {},
     "output_type": "execute_result"
    }
   ],
   "source": [
    "cm1 = confusion_matrix(y_train,y_actual)\n",
    "cm1"
   ]
  },
  {
   "cell_type": "code",
   "execution_count": 63,
   "metadata": {
    "colab": {
     "base_uri": "https://localhost:8080/"
    },
    "id": "s9lWB3LtjZ4d",
    "outputId": "17fc76ed-1c9d-4181-d859-c5c1357c0548"
   },
   "outputs": [
    {
     "name": "stdout",
     "output_type": "stream",
     "text": [
      "Classification report for training data :-\n",
      "              precision    recall  f1-score   support\n",
      "\n",
      "    Negative       0.82      0.68      0.75     12908\n",
      "     Neutral       0.74      0.22      0.34      9213\n",
      "    Positive       0.91      0.99      0.95     97879\n",
      "\n",
      "    accuracy                           0.90    120000\n",
      "   macro avg       0.83      0.63      0.68    120000\n",
      "weighted avg       0.89      0.90      0.88    120000\n",
      "\n"
     ]
    }
   ],
   "source": [
    "from sklearn.metrics import classification_report\n",
    "print(\"Classification report for training data :-\")\n",
    "print(classification_report(y_train,y_actual))"
   ]
  },
  {
   "cell_type": "code",
   "execution_count": 64,
   "metadata": {
    "colab": {
     "base_uri": "https://localhost:8080/"
    },
    "id": "6Kw1ByHUS046",
    "outputId": "d2e70069-8fc2-4ce3-b950-0446968aa7cd"
   },
   "outputs": [
    {
     "name": "stderr",
     "output_type": "stream",
     "text": [
      "[Parallel(n_jobs=1)]: Using backend SequentialBackend with 1 concurrent workers.\n",
      "/usr/local/lib/python3.9/dist-packages/sklearn/linear_model/_logistic.py:458: ConvergenceWarning: lbfgs failed to converge (status=1):\n",
      "STOP: TOTAL NO. of ITERATIONS REACHED LIMIT.\n",
      "\n",
      "Increase the number of iterations (max_iter) or scale the data as shown in:\n",
      "    https://scikit-learn.org/stable/modules/preprocessing.html\n",
      "Please also refer to the documentation for alternative solver options:\n",
      "    https://scikit-learn.org/stable/modules/linear_model.html#logistic-regression\n",
      "  n_iter_i = _check_optimize_result(\n",
      "[Parallel(n_jobs=1)]: Done   1 out of   1 | elapsed:   39.0s finished\n",
      "[Parallel(n_jobs=1)]: Using backend SequentialBackend with 1 concurrent workers.\n",
      "/usr/local/lib/python3.9/dist-packages/sklearn/linear_model/_logistic.py:458: ConvergenceWarning: lbfgs failed to converge (status=1):\n",
      "STOP: TOTAL NO. of ITERATIONS REACHED LIMIT.\n",
      "\n",
      "Increase the number of iterations (max_iter) or scale the data as shown in:\n",
      "    https://scikit-learn.org/stable/modules/preprocessing.html\n",
      "Please also refer to the documentation for alternative solver options:\n",
      "    https://scikit-learn.org/stable/modules/linear_model.html#logistic-regression\n",
      "  n_iter_i = _check_optimize_result(\n",
      "[Parallel(n_jobs=1)]: Done   1 out of   1 | elapsed:   35.5s finished\n",
      "[Parallel(n_jobs=1)]: Using backend SequentialBackend with 1 concurrent workers.\n",
      "/usr/local/lib/python3.9/dist-packages/sklearn/linear_model/_logistic.py:458: ConvergenceWarning: lbfgs failed to converge (status=1):\n",
      "STOP: TOTAL NO. of ITERATIONS REACHED LIMIT.\n",
      "\n",
      "Increase the number of iterations (max_iter) or scale the data as shown in:\n",
      "    https://scikit-learn.org/stable/modules/preprocessing.html\n",
      "Please also refer to the documentation for alternative solver options:\n",
      "    https://scikit-learn.org/stable/modules/linear_model.html#logistic-regression\n",
      "  n_iter_i = _check_optimize_result(\n",
      "[Parallel(n_jobs=1)]: Done   1 out of   1 | elapsed:   36.3s finished\n",
      "[Parallel(n_jobs=1)]: Using backend SequentialBackend with 1 concurrent workers.\n",
      "/usr/local/lib/python3.9/dist-packages/sklearn/linear_model/_logistic.py:458: ConvergenceWarning: lbfgs failed to converge (status=1):\n",
      "STOP: TOTAL NO. of ITERATIONS REACHED LIMIT.\n",
      "\n",
      "Increase the number of iterations (max_iter) or scale the data as shown in:\n",
      "    https://scikit-learn.org/stable/modules/preprocessing.html\n",
      "Please also refer to the documentation for alternative solver options:\n",
      "    https://scikit-learn.org/stable/modules/linear_model.html#logistic-regression\n",
      "  n_iter_i = _check_optimize_result(\n",
      "[Parallel(n_jobs=1)]: Done   1 out of   1 | elapsed:   36.1s finished\n",
      "[Parallel(n_jobs=1)]: Using backend SequentialBackend with 1 concurrent workers.\n"
     ]
    },
    {
     "name": "stdout",
     "output_type": "stream",
     "text": [
      "Cross-validation scores: [0.87496667 0.88073333 0.88066667 0.89383333 0.89556667]\n",
      "Mean cross-validation score: 0.89\n",
      "Standard deviation of cross-validation score: 0.01\n"
     ]
    },
    {
     "name": "stderr",
     "output_type": "stream",
     "text": [
      "/usr/local/lib/python3.9/dist-packages/sklearn/linear_model/_logistic.py:458: ConvergenceWarning: lbfgs failed to converge (status=1):\n",
      "STOP: TOTAL NO. of ITERATIONS REACHED LIMIT.\n",
      "\n",
      "Increase the number of iterations (max_iter) or scale the data as shown in:\n",
      "    https://scikit-learn.org/stable/modules/preprocessing.html\n",
      "Please also refer to the documentation for alternative solver options:\n",
      "    https://scikit-learn.org/stable/modules/linear_model.html#logistic-regression\n",
      "  n_iter_i = _check_optimize_result(\n",
      "[Parallel(n_jobs=1)]: Done   1 out of   1 | elapsed:   39.0s finished\n"
     ]
    }
   ],
   "source": [
    "from sklearn.model_selection import cross_val_score\n",
    "from sklearn.feature_extraction.text import CountVectorizer\n",
    "x1 = tfidf.fit_transform(x)\n",
    "scores = cross_val_score(clf,x1,y,cv=5)\n",
    "print(\"Cross-validation scores: {}\".format(scores))\n",
    "mean_score = np.mean(scores)\n",
    "std_score = np.std(scores)\n",
    "print(\"Mean cross-validation score: {:.2f}\".format(mean_score))\n",
    "print(\"Standard deviation of cross-validation score: {:.2f}\".format(std_score))"
   ]
  },
  {
   "cell_type": "code",
   "execution_count": 65,
   "metadata": {
    "id": "s5iadrMKhq4i"
   },
   "outputs": [],
   "source": [
    "x_train = [str(item) for item in x_train]\n",
    "x_test = [str(item) for item in x_test]"
   ]
  },
  {
   "cell_type": "code",
   "execution_count": 66,
   "metadata": {
    "id": "ZWQ7DR6DjlK0"
   },
   "outputs": [],
   "source": [
    "from sklearn.naive_bayes import MultinomialNB\n",
    "mnb = MultinomialNB()\n",
    "tfidf = TfidfVectorizer(sublinear_tf=True,max_df=0.5,min_df=1,stop_words=stopwords.words(\"english\"),use_idf=True,smooth_idf=True)\n",
    "x_train_1 = tfidf.fit_transform(x_train)\n",
    "x_test_1 = tfidf.transform(x_test)\n",
    "ovr_1 = OneVsRestClassifier(mnb).fit(x_train_1,y_train)\n",
    "y_predicted_1 = ovr_1.predict(x_test_1)"
   ]
  },
  {
   "cell_type": "code",
   "execution_count": 67,
   "metadata": {
    "colab": {
     "base_uri": "https://localhost:8080/"
    },
    "id": "PK9VIAGSfnAR",
    "outputId": "97aa7f67-1eaa-444f-d9ea-1a66a7705244"
   },
   "outputs": [
    {
     "data": {
      "text/plain": [
       "array([[    0,     0,  3271],\n",
       "       [    0,     9,  2255],\n",
       "       [    0,     0, 24465]])"
      ]
     },
     "execution_count": 67,
     "metadata": {},
     "output_type": "execute_result"
    }
   ],
   "source": [
    "cm_2 = confusion_matrix(y_test,y_predicted_1)\n",
    "cm_2"
   ]
  },
  {
   "cell_type": "code",
   "execution_count": 68,
   "metadata": {
    "colab": {
     "base_uri": "https://localhost:8080/"
    },
    "id": "LTGtwjDRf3f-",
    "outputId": "4ede5578-5365-4d6e-9833-771006e5c651"
   },
   "outputs": [
    {
     "name": "stdout",
     "output_type": "stream",
     "text": [
      "Classification report for testing data :-\n"
     ]
    },
    {
     "name": "stderr",
     "output_type": "stream",
     "text": [
      "/usr/local/lib/python3.9/dist-packages/sklearn/metrics/_classification.py:1344: UndefinedMetricWarning: Precision and F-score are ill-defined and being set to 0.0 in labels with no predicted samples. Use `zero_division` parameter to control this behavior.\n",
      "  _warn_prf(average, modifier, msg_start, len(result))\n"
     ]
    },
    {
     "name": "stdout",
     "output_type": "stream",
     "text": [
      "              precision    recall  f1-score   support\n",
      "\n",
      "    Negative       0.00      0.00      0.00      3271\n",
      "     Neutral       1.00      0.00      0.01      2264\n",
      "    Positive       0.82      1.00      0.90     24465\n",
      "\n",
      "    accuracy                           0.82     30000\n",
      "   macro avg       0.61      0.33      0.30     30000\n",
      "weighted avg       0.74      0.82      0.73     30000\n",
      "\n"
     ]
    },
    {
     "name": "stderr",
     "output_type": "stream",
     "text": [
      "/usr/local/lib/python3.9/dist-packages/sklearn/metrics/_classification.py:1344: UndefinedMetricWarning: Precision and F-score are ill-defined and being set to 0.0 in labels with no predicted samples. Use `zero_division` parameter to control this behavior.\n",
      "  _warn_prf(average, modifier, msg_start, len(result))\n",
      "/usr/local/lib/python3.9/dist-packages/sklearn/metrics/_classification.py:1344: UndefinedMetricWarning: Precision and F-score are ill-defined and being set to 0.0 in labels with no predicted samples. Use `zero_division` parameter to control this behavior.\n",
      "  _warn_prf(average, modifier, msg_start, len(result))\n"
     ]
    }
   ],
   "source": [
    "print(\"Classification report for testing data :-\")\n",
    "print(classification_report(y_test,y_predicted_1))"
   ]
  },
  {
   "cell_type": "code",
   "execution_count": 69,
   "metadata": {
    "id": "z5M498Fxf-rb"
   },
   "outputs": [],
   "source": [
    "y_actual_1 = ovr_1.predict(x_train_1)"
   ]
  },
  {
   "cell_type": "code",
   "execution_count": 70,
   "metadata": {
    "colab": {
     "base_uri": "https://localhost:8080/"
    },
    "id": "HItrLuXSjTrD",
    "outputId": "97236830-79a9-499c-b937-af7b8f62071d"
   },
   "outputs": [
    {
     "data": {
      "text/plain": [
       "array([[   16,     0, 12892],\n",
       "       [    0,    33,  9180],\n",
       "       [    0,     0, 97879]])"
      ]
     },
     "execution_count": 70,
     "metadata": {},
     "output_type": "execute_result"
    }
   ],
   "source": [
    "cm_3 = confusion_matrix(y_train,y_actual_1)\n",
    "cm_3"
   ]
  },
  {
   "cell_type": "code",
   "execution_count": 71,
   "metadata": {
    "colab": {
     "base_uri": "https://localhost:8080/"
    },
    "id": "WRK4BCJfjdIJ",
    "outputId": "a7a610d0-e090-47ec-86ec-ba5c3e77f2ed"
   },
   "outputs": [
    {
     "name": "stdout",
     "output_type": "stream",
     "text": [
      "Classification report for training data :-\n"
     ]
    },
    {
     "name": "stderr",
     "output_type": "stream",
     "text": [
      "/usr/local/lib/python3.9/dist-packages/sklearn/metrics/_classification.py:1344: UndefinedMetricWarning: Precision and F-score are ill-defined and being set to 0.0 in labels with no predicted samples. Use `zero_division` parameter to control this behavior.\n",
      "  _warn_prf(average, modifier, msg_start, len(result))\n"
     ]
    },
    {
     "name": "stdout",
     "output_type": "stream",
     "text": [
      "              precision    recall  f1-score   support\n",
      "\n",
      "    Negative       0.00      0.00      0.00      3271\n",
      "     Neutral       1.00      0.00      0.01      2264\n",
      "    Positive       0.82      1.00      0.90     24465\n",
      "\n",
      "    accuracy                           0.82     30000\n",
      "   macro avg       0.61      0.33      0.30     30000\n",
      "weighted avg       0.74      0.82      0.73     30000\n",
      "\n"
     ]
    },
    {
     "name": "stderr",
     "output_type": "stream",
     "text": [
      "/usr/local/lib/python3.9/dist-packages/sklearn/metrics/_classification.py:1344: UndefinedMetricWarning: Precision and F-score are ill-defined and being set to 0.0 in labels with no predicted samples. Use `zero_division` parameter to control this behavior.\n",
      "  _warn_prf(average, modifier, msg_start, len(result))\n",
      "/usr/local/lib/python3.9/dist-packages/sklearn/metrics/_classification.py:1344: UndefinedMetricWarning: Precision and F-score are ill-defined and being set to 0.0 in labels with no predicted samples. Use `zero_division` parameter to control this behavior.\n",
      "  _warn_prf(average, modifier, msg_start, len(result))\n"
     ]
    }
   ],
   "source": [
    "print(\"Classification report for training data :-\")\n",
    "print(classification_report(y_test,y_predicted_1))"
   ]
  },
  {
   "cell_type": "code",
   "execution_count": 72,
   "metadata": {
    "colab": {
     "base_uri": "https://localhost:8080/"
    },
    "id": "fWPh4p7JjmOS",
    "outputId": "471d961e-1915-42e5-f290-5f184818a342"
   },
   "outputs": [
    {
     "name": "stdout",
     "output_type": "stream",
     "text": [
      "Cross-validation scores: [0.8174     0.81693333 0.81786667 0.81846667 0.819     ]\n",
      "Mean cross-validation score: 0.82\n",
      "Standard deviation of cross-validation score: 0.00\n"
     ]
    }
   ],
   "source": [
    "scores = cross_val_score(mnb,x1,y,cv=5)\n",
    "print(\"Cross-validation scores: {}\".format(scores))\n",
    "mean_score = np.mean(scores)\n",
    "std_score = np.std(scores)\n",
    "print(\"Mean cross-validation score: {:.2f}\".format(mean_score))\n",
    "print(\"Standard deviation of cross-validation score: {:.2f}\".format(std_score))"
   ]
  },
  {
   "cell_type": "code",
   "execution_count": 73,
   "metadata": {
    "id": "yX5Ac3MXlzD3"
   },
   "outputs": [],
   "source": [
    "from sklearn.tree import DecisionTreeClassifier\n",
    "dcc = DecisionTreeClassifier(max_depth=7,random_state=42)\n",
    "tfidf = TfidfVectorizer(sublinear_tf=True,max_df=0.5,min_df=1,stop_words=stopwords.words(\"english\"),use_idf=True,smooth_idf=True)\n",
    "x_train_1 = tfidf.fit_transform(x_train)\n",
    "x_test_1 = tfidf.transform(x_test)\n",
    "ovr_1 = OneVsRestClassifier(dcc).fit(x_train_1,y_train)\n",
    "y_predicted_1 = ovr_1.predict(x_test_1)"
   ]
  },
  {
   "cell_type": "code",
   "execution_count": 74,
   "metadata": {
    "colab": {
     "base_uri": "https://localhost:8080/"
    },
    "id": "y-Vk1Y1FmdIn",
    "outputId": "d165a7db-34d2-4b35-8042-692f75beeab3"
   },
   "outputs": [
    {
     "data": {
      "text/plain": [
       "array([[  720,    64,  2487],\n",
       "       [  117,   375,  1772],\n",
       "       [  260,   167, 24038]])"
      ]
     },
     "execution_count": 74,
     "metadata": {},
     "output_type": "execute_result"
    }
   ],
   "source": [
    "cm_4 = confusion_matrix(y_test,y_predicted_1)\n",
    "cm_4"
   ]
  },
  {
   "cell_type": "code",
   "execution_count": 75,
   "metadata": {
    "colab": {
     "base_uri": "https://localhost:8080/"
    },
    "id": "Dh-_NBa6mnld",
    "outputId": "0d84fce2-274f-4c05-e053-14e6dc594029"
   },
   "outputs": [
    {
     "name": "stdout",
     "output_type": "stream",
     "text": [
      "Classification report for training data :-\n",
      "              precision    recall  f1-score   support\n",
      "\n",
      "    Negative       0.66      0.22      0.33      3271\n",
      "     Neutral       0.62      0.17      0.26      2264\n",
      "    Positive       0.85      0.98      0.91     24465\n",
      "\n",
      "    accuracy                           0.84     30000\n",
      "   macro avg       0.71      0.46      0.50     30000\n",
      "weighted avg       0.81      0.84      0.80     30000\n",
      "\n"
     ]
    }
   ],
   "source": [
    "print(\"Classification report for training data :-\")\n",
    "print(classification_report(y_test,y_predicted_1))"
   ]
  },
  {
   "cell_type": "code",
   "execution_count": 76,
   "metadata": {
    "id": "op0y7TJLmDd6"
   },
   "outputs": [],
   "source": [
    "y_actual_2 = ovr_1.predict(x_train_1)"
   ]
  },
  {
   "cell_type": "code",
   "execution_count": 77,
   "metadata": {
    "colab": {
     "base_uri": "https://localhost:8080/"
    },
    "id": "X0EIG2wvmYdx",
    "outputId": "28cf6229-c146-4be8-c883-8e99177b0531"
   },
   "outputs": [
    {
     "data": {
      "text/plain": [
       "array([[ 3002,   211,  9695],\n",
       "       [  486,  1299,  7428],\n",
       "       [  566,   417, 96896]])"
      ]
     },
     "execution_count": 77,
     "metadata": {},
     "output_type": "execute_result"
    }
   ],
   "source": [
    "cm_5 = confusion_matrix(y_train,y_actual_2)\n",
    "cm_5"
   ]
  },
  {
   "cell_type": "code",
   "execution_count": 78,
   "metadata": {
    "colab": {
     "base_uri": "https://localhost:8080/"
    },
    "id": "UHe0la9wmkQF",
    "outputId": "a37baf8c-9c02-460c-a77e-8a010b797586"
   },
   "outputs": [
    {
     "name": "stdout",
     "output_type": "stream",
     "text": [
      "Classification report for training data :-\n",
      "              precision    recall  f1-score   support\n",
      "\n",
      "    Negative       0.74      0.23      0.35     12908\n",
      "     Neutral       0.67      0.14      0.23      9213\n",
      "    Positive       0.85      0.99      0.91     97879\n",
      "\n",
      "    accuracy                           0.84    120000\n",
      "   macro avg       0.75      0.45      0.50    120000\n",
      "weighted avg       0.82      0.84      0.80    120000\n",
      "\n"
     ]
    }
   ],
   "source": [
    "print(\"Classification report for training data :-\")\n",
    "print(classification_report(y_train,y_actual_2))"
   ]
  },
  {
   "cell_type": "code",
   "execution_count": 79,
   "metadata": {
    "colab": {
     "base_uri": "https://localhost:8080/"
    },
    "id": "KTSErCAknPj6",
    "outputId": "c0dd22ab-5e48-4fde-da83-89ca83358b83"
   },
   "outputs": [
    {
     "name": "stdout",
     "output_type": "stream",
     "text": [
      "Cross-validation scores: [0.82606667 0.8296     0.8302     0.8425     0.83593333]\n",
      "Mean cross-validation score: 0.83\n",
      "Standard deviation of cross-validation score: 0.01\n"
     ]
    }
   ],
   "source": [
    "scores = cross_val_score(dcc,x1,y,cv=5)\n",
    "print(\"Cross-validation scores: {}\".format(scores))\n",
    "mean_score = np.mean(scores)\n",
    "std_score = np.std(scores)\n",
    "print(\"Mean cross-validation score: {:.2f}\".format(mean_score))\n",
    "print(\"Standard deviation of cross-validation score: {:.2f}\".format(std_score))"
   ]
  },
  {
   "cell_type": "code",
   "execution_count": 80,
   "metadata": {
    "colab": {
     "base_uri": "https://localhost:8080/"
    },
    "id": "UAwKkqIaoHvR",
    "outputId": "046abfe0-cca2-4a3a-c46c-e256c469697c"
   },
   "outputs": [
    {
     "name": "stderr",
     "output_type": "stream",
     "text": [
      "[Parallel(n_jobs=1)]: Using backend SequentialBackend with 1 concurrent workers.\n",
      "[Parallel(n_jobs=1)]: Done   5 out of   5 | elapsed:  4.5min finished\n",
      "[Parallel(n_jobs=1)]: Using backend SequentialBackend with 1 concurrent workers.\n",
      "[Parallel(n_jobs=1)]: Done   5 out of   5 | elapsed:  3.2min finished\n",
      "[Parallel(n_jobs=1)]: Using backend SequentialBackend with 1 concurrent workers.\n",
      "[Parallel(n_jobs=1)]: Done   5 out of   5 | elapsed:  6.8min finished\n",
      "[Parallel(n_jobs=1)]: Using backend SequentialBackend with 1 concurrent workers.\n",
      "[Parallel(n_jobs=1)]: Done   5 out of   5 | elapsed:    0.5s finished\n",
      "[Parallel(n_jobs=1)]: Using backend SequentialBackend with 1 concurrent workers.\n",
      "[Parallel(n_jobs=1)]: Done   5 out of   5 | elapsed:    0.9s finished\n",
      "[Parallel(n_jobs=1)]: Using backend SequentialBackend with 1 concurrent workers.\n",
      "[Parallel(n_jobs=1)]: Done   5 out of   5 | elapsed:    0.4s finished\n"
     ]
    }
   ],
   "source": [
    "from sklearn.ensemble import RandomForestClassifier\n",
    "rfc = RandomForestClassifier(verbose=1,n_estimators=5,random_state=42)\n",
    "tfidf = TfidfVectorizer(sublinear_tf=True,max_df=0.5,min_df=1,stop_words=stopwords.words(\"english\"),use_idf=True,smooth_idf=True)\n",
    "x_train_4 = tfidf.fit_transform(x_train)\n",
    "x_test_4 = tfidf.transform(x_test)\n",
    "ovr_3 = OneVsRestClassifier(rfc).fit(x_train_4,y_train)\n",
    "y_predicted_4 = ovr_3.predict(x_test_4)"
   ]
  },
  {
   "cell_type": "code",
   "execution_count": 81,
   "metadata": {
    "colab": {
     "base_uri": "https://localhost:8080/"
    },
    "id": "v-BSMWXMstx_",
    "outputId": "780f9a4f-41a1-4d35-ca56-8528ac8d06e4"
   },
   "outputs": [
    {
     "data": {
      "text/plain": [
       "array([[  665,   101,  2505],\n",
       "       [  116,   246,  1902],\n",
       "       [  288,   132, 24045]])"
      ]
     },
     "execution_count": 81,
     "metadata": {},
     "output_type": "execute_result"
    }
   ],
   "source": [
    "cm_6 = confusion_matrix(y_test,y_predicted_4)\n",
    "cm_6"
   ]
  },
  {
   "cell_type": "code",
   "execution_count": 82,
   "metadata": {
    "colab": {
     "base_uri": "https://localhost:8080/"
    },
    "id": "YgRYPAEH7sFy",
    "outputId": "e371554f-fad1-43e6-c543-7bb4c261d8de"
   },
   "outputs": [
    {
     "name": "stdout",
     "output_type": "stream",
     "text": [
      "Classification report for training data :-\n",
      "              precision    recall  f1-score   support\n",
      "\n",
      "    Negative       0.62      0.20      0.31      3271\n",
      "     Neutral       0.51      0.11      0.18      2264\n",
      "    Positive       0.85      0.98      0.91     24465\n",
      "\n",
      "    accuracy                           0.83     30000\n",
      "   macro avg       0.66      0.43      0.46     30000\n",
      "weighted avg       0.80      0.83      0.79     30000\n",
      "\n"
     ]
    }
   ],
   "source": [
    "print(\"Classification report for training data :-\")\n",
    "print(classification_report(y_test,y_predicted_4))"
   ]
  },
  {
   "cell_type": "code",
   "execution_count": 83,
   "metadata": {
    "id": "6WC3buZ97yxq"
   },
   "outputs": [],
   "source": [
    "y_actual_3 = ovr_1.predict(x_train_4)"
   ]
  },
  {
   "cell_type": "code",
   "execution_count": 84,
   "metadata": {
    "colab": {
     "base_uri": "https://localhost:8080/"
    },
    "id": "-TMGhgyO7-zm",
    "outputId": "99bad13d-acf3-4985-adfe-259df730c685"
   },
   "outputs": [
    {
     "data": {
      "text/plain": [
       "array([[ 3002,   211,  9695],\n",
       "       [  486,  1299,  7428],\n",
       "       [  566,   417, 96896]])"
      ]
     },
     "execution_count": 84,
     "metadata": {},
     "output_type": "execute_result"
    }
   ],
   "source": [
    "cm_7 = confusion_matrix(y_train,y_actual_3)\n",
    "cm_7"
   ]
  },
  {
   "cell_type": "code",
   "execution_count": 85,
   "metadata": {
    "colab": {
     "base_uri": "https://localhost:8080/"
    },
    "id": "tgVZRW3K8JZH",
    "outputId": "ad401759-1ec5-44d5-eb4d-095c4567ac38"
   },
   "outputs": [
    {
     "name": "stdout",
     "output_type": "stream",
     "text": [
      "Classification report for training data :-\n",
      "              precision    recall  f1-score   support\n",
      "\n",
      "    Negative       0.74      0.23      0.35     12908\n",
      "     Neutral       0.67      0.14      0.23      9213\n",
      "    Positive       0.85      0.99      0.91     97879\n",
      "\n",
      "    accuracy                           0.84    120000\n",
      "   macro avg       0.75      0.45      0.50    120000\n",
      "weighted avg       0.82      0.84      0.80    120000\n",
      "\n"
     ]
    }
   ],
   "source": [
    "print(\"Classification report for training data :-\")\n",
    "print(classification_report(y_train,y_actual_3))"
   ]
  },
  {
   "cell_type": "code",
   "execution_count": 86,
   "metadata": {
    "colab": {
     "base_uri": "https://localhost:8080/"
    },
    "id": "c4-_BJNO8QuQ",
    "outputId": "defdb1b7-812e-473f-cd9e-d92de6ee67a5"
   },
   "outputs": [
    {
     "name": "stderr",
     "output_type": "stream",
     "text": [
      "[Parallel(n_jobs=1)]: Using backend SequentialBackend with 1 concurrent workers.\n",
      "[Parallel(n_jobs=1)]: Done   5 out of   5 | elapsed:   41.8s finished\n",
      "[Parallel(n_jobs=1)]: Using backend SequentialBackend with 1 concurrent workers.\n",
      "[Parallel(n_jobs=1)]: Done   5 out of   5 | elapsed:    0.2s finished\n",
      "[Parallel(n_jobs=1)]: Using backend SequentialBackend with 1 concurrent workers.\n",
      "[Parallel(n_jobs=1)]: Done   5 out of   5 | elapsed:   43.1s finished\n",
      "[Parallel(n_jobs=1)]: Using backend SequentialBackend with 1 concurrent workers.\n",
      "[Parallel(n_jobs=1)]: Done   5 out of   5 | elapsed:    0.2s finished\n",
      "[Parallel(n_jobs=1)]: Using backend SequentialBackend with 1 concurrent workers.\n",
      "[Parallel(n_jobs=1)]: Done   5 out of   5 | elapsed:   42.0s finished\n",
      "[Parallel(n_jobs=1)]: Using backend SequentialBackend with 1 concurrent workers.\n",
      "[Parallel(n_jobs=1)]: Done   5 out of   5 | elapsed:    0.2s finished\n",
      "[Parallel(n_jobs=1)]: Using backend SequentialBackend with 1 concurrent workers.\n",
      "[Parallel(n_jobs=1)]: Done   5 out of   5 | elapsed:   43.4s finished\n",
      "[Parallel(n_jobs=1)]: Using backend SequentialBackend with 1 concurrent workers.\n",
      "[Parallel(n_jobs=1)]: Done   5 out of   5 | elapsed:    0.2s finished\n",
      "[Parallel(n_jobs=1)]: Using backend SequentialBackend with 1 concurrent workers.\n",
      "[Parallel(n_jobs=1)]: Done   5 out of   5 | elapsed:   44.5s finished\n",
      "[Parallel(n_jobs=1)]: Using backend SequentialBackend with 1 concurrent workers.\n"
     ]
    },
    {
     "name": "stdout",
     "output_type": "stream",
     "text": [
      "Cross-validation scores: [0.8287     0.83036667 0.83583333 0.85263333 0.86236667]\n",
      "Mean cross-validation score: 0.84\n",
      "Standard deviation of cross-validation score: 0.01\n"
     ]
    },
    {
     "name": "stderr",
     "output_type": "stream",
     "text": [
      "[Parallel(n_jobs=1)]: Done   5 out of   5 | elapsed:    0.2s finished\n"
     ]
    }
   ],
   "source": [
    "scores = cross_val_score(rfc,x1,y,cv=5)\n",
    "print(\"Cross-validation scores: {}\".format(scores))\n",
    "mean_score = np.mean(scores)\n",
    "std_score = np.std(scores)\n",
    "print(\"Mean cross-validation score: {:.2f}\".format(mean_score))\n",
    "print(\"Standard deviation of cross-validation score: {:.2f}\".format(std_score))"
   ]
  },
  {
   "cell_type": "code",
   "execution_count": 87,
   "metadata": {
    "id": "e8PyXJFv8aob"
   },
   "outputs": [],
   "source": [
    "from sklearn.preprocessing import LabelEncoder,StandardScaler\n",
    "pca = clean_data\n",
    "pca = pca.astype(str)\n",
    "le = LabelEncoder()\n",
    "pca = pca.apply(le.fit_transform)\n",
    "scaler = StandardScaler()\n",
    "pca = scaler.fit_transform(pca)"
   ]
  },
  {
   "cell_type": "code",
   "execution_count": 88,
   "metadata": {
    "id": "mgvYb1FjDa9S"
   },
   "outputs": [],
   "source": [
    "from sklearn.decomposition import PCA"
   ]
  },
  {
   "cell_type": "code",
   "execution_count": 89,
   "metadata": {
    "colab": {
     "base_uri": "https://localhost:8080/"
    },
    "id": "kVGVGBaHGp44",
    "outputId": "9076893d-5f65-4f5a-c983-0b2208a14f4d"
   },
   "outputs": [
    {
     "data": {
      "text/plain": [
       "array([[ 5.51289916,  7.02123247],\n",
       "       [ 6.56807402,  4.68087473],\n",
       "       [ 5.61363017,  4.78127374],\n",
       "       ...,\n",
       "       [-2.68813971,  0.1321362 ],\n",
       "       [-2.02081014, -0.95674055],\n",
       "       [-2.72690513, -0.51222881]])"
      ]
     },
     "execution_count": 89,
     "metadata": {},
     "output_type": "execute_result"
    }
   ],
   "source": [
    "from sklearn.decomposition import PCA\n",
    "dec = PCA(n_components=2)\n",
    "dec.fit(pca)\n",
    "X_transformed = dec.fit_transform(pca)\n",
    "X_transformed"
   ]
  },
  {
   "cell_type": "code",
   "execution_count": 90,
   "metadata": {
    "colab": {
     "base_uri": "https://localhost:8080/",
     "height": 832
    },
    "id": "QB0rfY99G9P4",
    "outputId": "91f76404-8000-4b91-9dde-00887d120e6c"
   },
   "outputs": [
    {
     "name": "stderr",
     "output_type": "stream",
     "text": [
      "/usr/local/lib/python3.9/dist-packages/sklearn/cluster/_kmeans.py:870: FutureWarning: The default value of `n_init` will change from 10 to 'auto' in 1.4. Set the value of `n_init` explicitly to suppress the warning\n",
      "  warnings.warn(\n",
      "/usr/local/lib/python3.9/dist-packages/sklearn/cluster/_kmeans.py:870: FutureWarning: The default value of `n_init` will change from 10 to 'auto' in 1.4. Set the value of `n_init` explicitly to suppress the warning\n",
      "  warnings.warn(\n",
      "/usr/local/lib/python3.9/dist-packages/sklearn/cluster/_kmeans.py:870: FutureWarning: The default value of `n_init` will change from 10 to 'auto' in 1.4. Set the value of `n_init` explicitly to suppress the warning\n",
      "  warnings.warn(\n",
      "/usr/local/lib/python3.9/dist-packages/sklearn/cluster/_kmeans.py:870: FutureWarning: The default value of `n_init` will change from 10 to 'auto' in 1.4. Set the value of `n_init` explicitly to suppress the warning\n",
      "  warnings.warn(\n",
      "/usr/local/lib/python3.9/dist-packages/sklearn/cluster/_kmeans.py:870: FutureWarning: The default value of `n_init` will change from 10 to 'auto' in 1.4. Set the value of `n_init` explicitly to suppress the warning\n",
      "  warnings.warn(\n",
      "/usr/local/lib/python3.9/dist-packages/sklearn/cluster/_kmeans.py:870: FutureWarning: The default value of `n_init` will change from 10 to 'auto' in 1.4. Set the value of `n_init` explicitly to suppress the warning\n",
      "  warnings.warn(\n",
      "/usr/local/lib/python3.9/dist-packages/sklearn/cluster/_kmeans.py:870: FutureWarning: The default value of `n_init` will change from 10 to 'auto' in 1.4. Set the value of `n_init` explicitly to suppress the warning\n",
      "  warnings.warn(\n",
      "/usr/local/lib/python3.9/dist-packages/sklearn/cluster/_kmeans.py:870: FutureWarning: The default value of `n_init` will change from 10 to 'auto' in 1.4. Set the value of `n_init` explicitly to suppress the warning\n",
      "  warnings.warn(\n",
      "/usr/local/lib/python3.9/dist-packages/sklearn/cluster/_kmeans.py:870: FutureWarning: The default value of `n_init` will change from 10 to 'auto' in 1.4. Set the value of `n_init` explicitly to suppress the warning\n",
      "  warnings.warn(\n",
      "/usr/local/lib/python3.9/dist-packages/sklearn/cluster/_kmeans.py:870: FutureWarning: The default value of `n_init` will change from 10 to 'auto' in 1.4. Set the value of `n_init` explicitly to suppress the warning\n",
      "  warnings.warn(\n"
     ]
    },
    {
     "data": {
      "image/png": "[encoded data removed]",
      "text/plain": [
       "<Figure size 640x480 with 1 Axes>"
      ]
     },
     "metadata": {},
     "output_type": "display_data"
    }
   ],
   "source": [
    "from sklearn.cluster import KMeans\n",
    "wcss=[]\n",
    "for k in range(2,12):\n",
    "    kmeans=KMeans(n_clusters=k)\n",
    "    kmeans.fit(X_transformed)\n",
    "    wcss.append(kmeans.inertia_)\n",
    "plt.plot(range(2,12),wcss)\n",
    "plt.grid(True)\n",
    "plt.xlabel('k')\n",
    "plt.ylabel('wcss W.R.T inertia')\n",
    "plt.show()"
   ]
  },
  {
   "cell_type": "code",
   "execution_count": 91,
   "metadata": {
    "colab": {
     "base_uri": "https://localhost:8080/"
    },
    "id": "X_cVoyMXHd-f",
    "outputId": "2d6ac3a5-d61d-487e-95d6-95b48543d483"
   },
   "outputs": [
    {
     "name": "stderr",
     "output_type": "stream",
     "text": [
      "/usr/local/lib/python3.9/dist-packages/sklearn/cluster/_kmeans.py:870: FutureWarning: The default value of `n_init` will change from 10 to 'auto' in 1.4. Set the value of `n_init` explicitly to suppress the warning\n",
      "  warnings.warn(\n"
     ]
    },
    {
     "name": "stdout",
     "output_type": "stream",
     "text": [
      "For n_clusters = 3 The average silhouette_score is : 0.3946502069636805\n"
     ]
    }
   ],
   "source": [
    "from sklearn.metrics import silhouette_score\n",
    "kmeans = KMeans(n_clusters=3,random_state=42)\n",
    "labels = kmeans.fit_predict(X_transformed)\n",
    "silhouette_avg = silhouette_score(X_transformed,labels)\n",
    "print(\"For n_clusters =\",3,\"The average silhouette_score is :\", silhouette_avg)"
   ]
  },
  {
   "cell_type": "code",
   "execution_count": 92,
   "metadata": {
    "colab": {
     "base_uri": "https://localhost:8080/",
     "height": 472
    },
    "id": "repQN7PB3vGi",
    "outputId": "07483e59-878a-41c0-c700-a9edfd80d52f"
   },
   "outputs": [
    {
     "data": {
      "image/png": "[encoded data removed]",
      "text/plain": [
       "<Figure size 640x480 with 1 Axes>"
      ]
     },
     "metadata": {},
     "output_type": "display_data"
    }
   ],
   "source": [
    "import matplotlib.pyplot as plt\n",
    "plt.scatter(X_transformed[labels == 0, 0], X_transformed[labels == 0, 1], s = 50, c = 'lightblue', label = 'Neutral Review')\n",
    "plt.scatter(X_transformed[labels == 1, 0], X_transformed[labels == 1, 1], s = 50, c = 'red', label = 'Negative Review')\n",
    "plt.scatter(X_transformed[labels == 2, 0], X_transformed[labels == 2, 1], s = 50, c = 'lightgreen', label = 'Positive Review')\n",
    "plt.title('Clusters of Customers')\n",
    "plt.xlabel('customers')\n",
    "plt.ylabel('Extracted data')\n",
    "plt.legend()\n",
    "plt.show()"
   ]
  },
  {
   "cell_type": "code",
   "execution_count": null,
   "metadata": {
    "id": "8uKCudCsJMJC"
   },
   "outputs": [],
   "source": []
  },
  {
   "cell_type": "code",
   "execution_count": null,
   "metadata": {
    "id": "8WLYpPHmSeHo"
   },
   "outputs": [],
   "source": []
  },
  {
   "cell_type": "code",
   "execution_count": null,
   "metadata": {
    "id": "H86AJgZYTWE5"
   },
   "outputs": [],
   "source": []
  },
  {
   "cell_type": "code",
   "execution_count": null,
   "metadata": {
    "id": "50qBjMguXPp9"
   },
   "outputs": [],
   "source": []
  },
  {
   "cell_type": "code",
   "execution_count": null,
   "metadata": {
    "id": "kevqMB-Ykak4"
   },
   "outputs": [],
   "source": []
  },
  {
   "cell_type": "code",
   "execution_count": null,
   "metadata": {
    "id": "6dhMMCXYk6fq"
   },
   "outputs": [],
   "source": []
  },
  {
   "cell_type": "code",
   "execution_count": null,
   "metadata": {
    "id": "DlNscgnzlgOK"
   },
   "outputs": [],
   "source": []
  },
  {
   "cell_type": "code",
   "execution_count": null,
   "metadata": {
    "id": "pDO4sALToXrV"
   },
   "outputs": [],
   "source": []
  }
 ],
 "metadata": {
  "colab": {
   "provenance": []
  },
  "kernelspec": {
   "display_name": "Python 3 (ipykernel)",
   "language": "python",
   "name": "python3"
  },
  "language_info": {
   "codemirror_mode": {
    "name": "ipython",
    "version": 3
   },
   "file_extension": ".py",
   "mimetype": "text/x-python",
   "name": "python",
   "nbconvert_exporter": "python",
   "pygments_lexer": "ipython3",
   "version": "3.9.13"
  }
 },
 "nbformat": 4,
 "nbformat_minor": 1
}
